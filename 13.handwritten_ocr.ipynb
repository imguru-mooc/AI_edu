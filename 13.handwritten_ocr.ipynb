{
  "cells": [
    {
      "cell_type": "markdown",
      "id": "0293f65e",
      "metadata": {
        "id": "0293f65e"
      },
      "source": [
        "# Handwritten Chinese and Japanese OCR with OpenVINO™\n",
        "\n",
        "In this tutorial, we perform optical character recognition (OCR) for handwritten Chinese (simplified) and Japanese. An OCR tutorial using the Latin alphabet is available in [notebook 208](../208-optical-character-recognition/208-optical-character-recognition.ipynb). This model is capable of processing only one line of symbols at a time.\n",
        "\n",
        "The models used in this notebook are [`handwritten-japanese-recognition-0001`](https://docs.openvino.ai/2023.0/omz_models_model_handwritten_japanese_recognition_0001.html) and [`handwritten-simplified-chinese-0001`](https://docs.openvino.ai/2023.0/omz_models_model_handwritten_simplified_chinese_recognition_0001.html). To decode model outputs as readable text [`kondate_nakayosi`](https://github.com/openvinotoolkit/open_model_zoo/blob/master/data/dataset_classes/kondate_nakayosi.txt) and [`scut_ept`](https://github.com/openvinotoolkit/open_model_zoo/blob/master/data/dataset_classes/scut_ept.txt) charlists are used. Both models are available on [Open Model Zoo](https://github.com/openvinotoolkit/open_model_zoo/).\n",
        "\n",
        "#### Table of content:\n",
        "- [Imports](#Imports-Uparrow)\n",
        "- [Settings](#Settings-Uparrow)\n",
        "- [Select a Language](#Select-a-Language-Uparrow)\n",
        "- [Download the Model](#Download-the-Model-Uparrow)\n",
        "- [Load the Model and Execute](#Load-the-Model-and-Execute-Uparrow)\n",
        "- [Select inference device](#Select-inference-device-Uparrow)\n",
        "- [Fetch Information About Input and Output Layers](#Fetch-Information-About-Input-and-Output-Layers-Uparrow)\n",
        "- [Load an Image](#Load-an-Image-Uparrow)\n",
        "- [Visualize Input Image](#Visualize-Input-Image-Uparrow)\n",
        "- [Prepare Charlist](#Prepare-Charlist-Uparrow)\n",
        "- [Run Inference](#Run-Inference-Uparrow)\n",
        "- [Process the Output Data](#Process-the-Output-Data-Uparrow)\n",
        "- [Print the Output](#Print-the-Output-Uparrow)\n"
      ]
    },
    {
      "cell_type": "code",
      "execution_count": 1,
      "id": "b2642605",
      "metadata": {
        "id": "b2642605",
        "outputId": "8a665ded-daaa-4dca-f9a7-c8854bb08926",
        "colab": {
          "base_uri": "https://localhost:8080/"
        }
      },
      "outputs": [
        {
          "output_type": "stream",
          "name": "stdout",
          "text": [
            "\u001b[2K     \u001b[90m━━━━━━━━━━━━━━━━━━━━━━━━━━━━━━━━━━━━━━━━\u001b[0m \u001b[32m35.2/35.2 MB\u001b[0m \u001b[31m34.7 MB/s\u001b[0m eta \u001b[36m0:00:00\u001b[0m\n",
            "\u001b[?25h"
          ]
        }
      ],
      "source": [
        "# Install openvino-dev package\n",
        "%pip install -q \"openvino>=2023.1.0\"\n",
        "%pip install -q matplotlib numpy"
      ]
    },
    {
      "cell_type": "markdown",
      "id": "fda2e1e0",
      "metadata": {
        "id": "fda2e1e0"
      },
      "source": [
        "## Imports [$\\Uparrow$](#Table-of-content:)\n"
      ]
    },
    {
      "cell_type": "code",
      "execution_count": 2,
      "id": "e0a6a0d5",
      "metadata": {
        "jupyter": {
          "outputs_hidden": false
        },
        "pycharm": {
          "name": "#%%\n"
        },
        "id": "e0a6a0d5",
        "outputId": "7fd9eadf-03aa-4a09-b4b8-5689b72a4efb",
        "colab": {
          "base_uri": "https://localhost:8080/"
        }
      },
      "outputs": [
        {
          "output_type": "stream",
          "name": "stdout",
          "text": [
            "2023.1.0-12185-9e6b00e51cd-releases/2023/1\n"
          ]
        }
      ],
      "source": [
        "from collections import namedtuple\n",
        "from itertools import groupby\n",
        "\n",
        "import cv2\n",
        "import matplotlib.pyplot as plt\n",
        "import numpy as np\n",
        "import openvino as ov\n",
        "\n",
        "# Fetch `notebook_utils` module\n",
        "import urllib.request\n",
        "urllib.request.urlretrieve(\n",
        "    url='https://raw.githubusercontent.com/openvinotoolkit/openvino_notebooks/main/notebooks/utils/notebook_utils.py',\n",
        "    filename='notebook_utils.py'\n",
        ")\n",
        "from notebook_utils import download_file\n",
        "\n",
        "print(ov.__version__)"
      ]
    },
    {
      "cell_type": "markdown",
      "id": "7a46517a",
      "metadata": {
        "id": "7a46517a"
      },
      "source": [
        "## Settings [$\\Uparrow$](#Table-of-content:)\n",
        "\n",
        "Set up all constants and folders used in this notebook"
      ]
    },
    {
      "cell_type": "code",
      "execution_count": 3,
      "id": "b50b2bad",
      "metadata": {
        "id": "b50b2bad"
      },
      "outputs": [],
      "source": [
        "# Directories where data will be placed.\n",
        "base_models_dir = \"models\"\n",
        "data_folder = \"data\"\n",
        "charlist_folder = f\"{data_folder}/text\"\n",
        "\n",
        "# Precision used by the model.\n",
        "precision = \"FP16\""
      ]
    },
    {
      "cell_type": "markdown",
      "id": "f3c93fed",
      "metadata": {
        "id": "f3c93fed"
      },
      "source": [
        "To group files, you have to define the collection. In this case, use `namedtuple`."
      ]
    },
    {
      "cell_type": "code",
      "execution_count": 4,
      "id": "17402fcc",
      "metadata": {
        "id": "17402fcc"
      },
      "outputs": [],
      "source": [
        "Language = namedtuple(\n",
        "    typename=\"Language\", field_names=[\"model_name\", \"charlist_name\", \"demo_image_name\"]\n",
        ")\n",
        "chinese_files = Language(\n",
        "    model_name=\"handwritten-simplified-chinese-recognition-0001\",\n",
        "    charlist_name=\"chinese_charlist.txt\",\n",
        "    demo_image_name=\"handwritten_chinese_test.jpg\",\n",
        ")\n",
        "japanese_files = Language(\n",
        "    model_name=\"handwritten-japanese-recognition-0001\",\n",
        "    charlist_name=\"japanese_charlist.txt\",\n",
        "    demo_image_name=\"handwritten_japanese_test.png\",\n",
        ")"
      ]
    },
    {
      "cell_type": "markdown",
      "id": "8c61827c",
      "metadata": {
        "id": "8c61827c"
      },
      "source": [
        "## Select a Language [$\\Uparrow$](#Table-of-content:)\n",
        "\n",
        "Depending on your choice you will need to change a line of code in the cell below.\n",
        "\n",
        "If you want to perform OCR on a text in Japanese, set `language = \"japanese\"`. For Chinese, set `language = \"chinese\"`."
      ]
    },
    {
      "cell_type": "code",
      "execution_count": 5,
      "id": "1d3b1190",
      "metadata": {
        "id": "1d3b1190"
      },
      "outputs": [],
      "source": [
        "# Select the language by using either language=\"chinese\" or language=\"japanese\".\n",
        "language = \"chinese\"\n",
        "\n",
        "languages = {\"chinese\": chinese_files, \"japanese\": japanese_files}\n",
        "\n",
        "selected_language = languages.get(language)"
      ]
    },
    {
      "cell_type": "markdown",
      "id": "750355d4",
      "metadata": {
        "id": "750355d4"
      },
      "source": [
        "## Download the Model [$\\Uparrow$](#Table-of-content:)\n",
        "\n",
        "In addition to images and charlists, you need to download the model file. In the sections below, there are cells for downloading either the Chinese or Japanese model.\n",
        "\n",
        "If it is your first time running the notebook, the model will be downloaded. It may take a few minutes.\n",
        "\n",
        "Use `download_file` function from the utils package, which automatically creates a directory structure and downloads the selected model file."
      ]
    },
    {
      "cell_type": "code",
      "execution_count": 6,
      "id": "e8f266fa",
      "metadata": {
        "id": "e8f266fa",
        "outputId": "baa1905d-36ca-4de0-c246-005f49f83244",
        "colab": {
          "base_uri": "https://localhost:8080/",
          "height": 137,
          "referenced_widgets": [
            "bffcaaa1cf4f4f77980e25c3490249d8",
            "047bf675c9df4fccac9a9e055bf0a40e",
            "9b488c32893d4fea981ad605b3bcdc89",
            "82866268187c4889b22e6bab3dfb6128",
            "32ac38f243354ba580d3683abecbf93a",
            "8024a8917ac54a4b9f981fc0ed2ed68d",
            "0c4f0d9e34394fbab17a81897fb58c3b",
            "7d0066ba8ff444e791d9fdf40bc70fb2",
            "15b4da15486d477c9686ece3c96e0257",
            "86642e0b99244a0da23dfd46ad050ecd",
            "c33212be5a5b4d6bbb916a3b39ee0cb1",
            "4f0d2b66484f4fa7857eea047f19bd74",
            "247a3d0f0cba4f1db277ba406168594d",
            "4a9ff99282904b9f94e65003e77ac6bb",
            "3f3e7188747c42d28087d4dc1add0662",
            "8eabc8169b8c4bd79d68930043e3de86",
            "b8139bfd18c1468a8abf9e2cd4a50ba1",
            "52589bf9a9bf4a0fbdb59bb28aa1c2ad",
            "9f488d7ba1c845d48ee3a6d1c542cfe4",
            "27e917aa93314519ab0104006ab95d2c",
            "f9a2ca0582594df8b7f819adb2129989",
            "2d01d374f6754f94bf84da15b6ea94aa"
          ]
        }
      },
      "outputs": [
        {
          "output_type": "display_data",
          "data": {
            "text/plain": [
              "models/handwritten-simplified-chinese-recognition-0001.xml:   0%|          | 0.00/108k [00:00<?, ?B/s]"
            ],
            "application/vnd.jupyter.widget-view+json": {
              "version_major": 2,
              "version_minor": 0,
              "model_id": "bffcaaa1cf4f4f77980e25c3490249d8"
            }
          },
          "metadata": {}
        },
        {
          "output_type": "display_data",
          "data": {
            "text/plain": [
              "models/handwritten-simplified-chinese-recognition-0001.bin:   0%|          | 0.00/32.9M [00:00<?, ?B/s]"
            ],
            "application/vnd.jupyter.widget-view+json": {
              "version_major": 2,
              "version_minor": 0,
              "model_id": "4f0d2b66484f4fa7857eea047f19bd74"
            }
          },
          "metadata": {}
        }
      ],
      "source": [
        "path_to_model = download_file(\n",
        "    url=f'https://storage.openvinotoolkit.org/repositories/open_model_zoo/2023.0/models_bin/1/{selected_language.model_name}/{precision}/{selected_language.model_name}.xml',\n",
        "    directory=base_models_dir\n",
        ")\n",
        "_ = download_file(\n",
        "    url=f'https://storage.openvinotoolkit.org/repositories/open_model_zoo/2023.0/models_bin/1/{selected_language.model_name}/{precision}/{selected_language.model_name}.bin',\n",
        "    directory=base_models_dir\n",
        ")"
      ]
    },
    {
      "cell_type": "markdown",
      "id": "6d026308",
      "metadata": {
        "id": "6d026308"
      },
      "source": [
        "## Load the Model and Execute [$\\Uparrow$](#Table-of-content:)\n",
        "\n",
        "When all files are downloaded and language is selected, read and compile the network to run inference. The path to the model is defined based on the selected language."
      ]
    },
    {
      "cell_type": "code",
      "execution_count": 7,
      "id": "7114e467",
      "metadata": {
        "jupyter": {
          "outputs_hidden": false
        },
        "pycharm": {
          "name": "#%%\n"
        },
        "id": "7114e467"
      },
      "outputs": [],
      "source": [
        "core = ov.Core()\n",
        "model = core.read_model(model=path_to_model)"
      ]
    },
    {
      "cell_type": "markdown",
      "id": "9ecb4551",
      "metadata": {
        "id": "9ecb4551"
      },
      "source": [
        "## Select inference device [$\\Uparrow$](#Table-of-content:)\n",
        "\n",
        "select device from dropdown list for running inference using OpenVINO"
      ]
    },
    {
      "cell_type": "code",
      "execution_count": 8,
      "id": "aaef9cca-de02-49b3-9544-d1c9cfce7792",
      "metadata": {
        "id": "aaef9cca-de02-49b3-9544-d1c9cfce7792",
        "outputId": "877446c4-7a41-45b4-95b2-a776b3d04d7d",
        "colab": {
          "base_uri": "https://localhost:8080/",
          "height": 49,
          "referenced_widgets": [
            "120e9af07bb34757a8ba9254500fa5a5",
            "b48fa59edce94d2a8d4337cf400a6c95",
            "f57ea6bef7194a7dac0786978d3d68e0"
          ]
        }
      },
      "outputs": [
        {
          "output_type": "display_data",
          "data": {
            "text/plain": [
              "Dropdown(description='Device:', index=1, options=('CPU', 'AUTO'), value='AUTO')"
            ],
            "application/vnd.jupyter.widget-view+json": {
              "version_major": 2,
              "version_minor": 0,
              "model_id": "120e9af07bb34757a8ba9254500fa5a5"
            }
          },
          "metadata": {}
        }
      ],
      "source": [
        "import ipywidgets as widgets\n",
        "\n",
        "device = widgets.Dropdown(\n",
        "    options=core.available_devices + [\"AUTO\"],\n",
        "    value='AUTO',\n",
        "    description='Device:',\n",
        "    disabled=False,\n",
        ")\n",
        "\n",
        "device"
      ]
    },
    {
      "cell_type": "code",
      "execution_count": 9,
      "id": "024ad3a4",
      "metadata": {
        "id": "024ad3a4"
      },
      "outputs": [],
      "source": [
        "compiled_model = core.compile_model(model=model, device_name=device.value)"
      ]
    },
    {
      "cell_type": "markdown",
      "id": "3df5b652",
      "metadata": {
        "id": "3df5b652"
      },
      "source": [
        "## Fetch Information About Input and Output Layers [$\\Uparrow$](#Table-of-content:)\n",
        "\n",
        "Now that the model is loaded, fetch information about the input and output layers (shape)."
      ]
    },
    {
      "cell_type": "code",
      "execution_count": 10,
      "id": "7d31411a",
      "metadata": {
        "id": "7d31411a"
      },
      "outputs": [],
      "source": [
        "recognition_output_layer = compiled_model.output(0)\n",
        "recognition_input_layer = compiled_model.input(0)"
      ]
    },
    {
      "cell_type": "markdown",
      "id": "41307bc7",
      "metadata": {
        "id": "41307bc7"
      },
      "source": [
        "## Load an Image [$\\Uparrow$](#Table-of-content:)\n",
        "\n",
        "Next, load an image. The model expects a single-channel image as input, so the image is read in grayscale.\n",
        "\n",
        "After loading the input image, get information to use for calculating the scale ratio between required input layer height and the current image height. In the cell below, the image will be resized and padded to keep letters proportional and meet input shape."
      ]
    },
    {
      "cell_type": "code",
      "execution_count": 11,
      "id": "afa1d51a",
      "metadata": {
        "id": "afa1d51a",
        "outputId": "d5073d4c-f028-4ecf-b68e-8d09385dc002",
        "colab": {
          "base_uri": "https://localhost:8080/",
          "height": 77,
          "referenced_widgets": [
            "14bd97008a1241f18d7e56ffbad0748e",
            "e0679375ad3a4bcb984a059949e86df2",
            "a1d371ffe84c47fd90cf36c287a1b0da",
            "542b90aabb4c4219938fb9373c491836",
            "cbd95afb90654be596db313951796d68",
            "047ab01c5cb94ed98647679486d02ebc",
            "dcaf50b7b17b4aa0b06b84d47175b296",
            "e7e74ae5030a4a67a213905e627b0802",
            "3e62018af42d4c4a97db653b0ce29446",
            "292b663eb7924500af0d360700c45ca5",
            "8f77f58704794221b6a2d6766d2dbf91"
          ]
        }
      },
      "outputs": [
        {
          "output_type": "display_data",
          "data": {
            "text/plain": [
              "data/handwritten_chinese_test.jpg:   0%|          | 0.00/42.1k [00:00<?, ?B/s]"
            ],
            "application/vnd.jupyter.widget-view+json": {
              "version_major": 2,
              "version_minor": 0,
              "model_id": "14bd97008a1241f18d7e56ffbad0748e"
            }
          },
          "metadata": {}
        }
      ],
      "source": [
        "# Download the image from the openvino_notebooks storage based on the selected model.\n",
        "file_name = download_file(\n",
        "    \"https://storage.openvinotoolkit.org/repositories/openvino_notebooks/data/data/image/\" + selected_language.demo_image_name,\n",
        "    directory=data_folder\n",
        ")\n",
        "\n",
        "# Text detection models expect an image in grayscale format.\n",
        "# IMPORTANT! This model enables reading only one line at time.\n",
        "\n",
        "# Read the image.\n",
        "image = cv2.imread(filename=str(file_name), flags=cv2.IMREAD_GRAYSCALE)\n",
        "\n",
        "# Fetch the shape.\n",
        "image_height, _ = image.shape\n",
        "\n",
        "# B,C,H,W = batch size, number of channels, height, width.\n",
        "_, _, H, W = recognition_input_layer.shape\n",
        "\n",
        "# Calculate scale ratio between the input shape height and image height to resize the image.\n",
        "scale_ratio = H / image_height\n",
        "\n",
        "# Resize the image to expected input sizes.\n",
        "resized_image = cv2.resize(\n",
        "    image, None, fx=scale_ratio, fy=scale_ratio, interpolation=cv2.INTER_AREA\n",
        ")\n",
        "\n",
        "# Pad the image to match input size, without changing aspect ratio.\n",
        "resized_image = np.pad(\n",
        "    resized_image, ((0, 0), (0, W - resized_image.shape[1])), mode=\"edge\"\n",
        ")\n",
        "\n",
        "# Reshape to network input shape.\n",
        "input_image = resized_image[None, None, :, :]"
      ]
    },
    {
      "cell_type": "markdown",
      "id": "ba364bee",
      "metadata": {
        "id": "ba364bee"
      },
      "source": [
        "## Visualize Input Image [$\\Uparrow$](#Table-of-content:)\n",
        "\n",
        "After preprocessing, you can display the image."
      ]
    },
    {
      "cell_type": "code",
      "execution_count": 12,
      "id": "f7a8e437",
      "metadata": {
        "id": "f7a8e437",
        "outputId": "667264d3-6fe7-4c18-cc2d-bc6b009b02da",
        "colab": {
          "base_uri": "https://localhost:8080/",
          "height": 55
        }
      },
      "outputs": [
        {
          "output_type": "display_data",
          "data": {
            "text/plain": [
              "<Figure size 2000x100 with 1 Axes>"
            ],
            "image/png": "[encoded data removed]"
          },
          "metadata": {}
        }
      ],
      "source": [
        "plt.figure(figsize=(20, 1))\n",
        "plt.axis(\"off\")\n",
        "plt.imshow(resized_image, cmap=\"gray\", vmin=0, vmax=255);"
      ]
    },
    {
      "cell_type": "markdown",
      "id": "c6d4c642",
      "metadata": {
        "id": "c6d4c642"
      },
      "source": [
        "## Prepare Charlist [$\\Uparrow$](#Table-of-content:)\n",
        "\n",
        "The model is loaded and the image is ready. The only element left is the charlist, which is downloaded. You must add a blank symbol at the beginning of the charlist before using it. This is expected for both the Chinese and Japanese models."
      ]
    },
    {
      "cell_type": "code",
      "execution_count": 13,
      "id": "8e35eae1",
      "metadata": {
        "id": "8e35eae1",
        "outputId": "40214e86-8512-4a9b-ab75-e39da002ed92",
        "colab": {
          "base_uri": "https://localhost:8080/",
          "height": 77,
          "referenced_widgets": [
            "58f4b3cdf1614609bbbf13886267650f",
            "0aeb2ef9c5824f91aea0a869478aa101",
            "ed550d3afde44680b89be7890a7d5781",
            "5d72eab9a25740cbadc91095ab0834e7",
            "4b6d4a6f33ff4d7f8f2c220fe1979e17",
            "2c00f130c37a4332a7fdcb5586547233",
            "8f56b18beb0c4235aae06d9a7af4d3a7",
            "455a41443c6f46d18fe4d0a34a028b69",
            "e76bb47b0b184606b251a6aaffc0fb92",
            "0af3dbd23730455691ac32074d7cf3d9",
            "f53012f22cc4435daa0ca203035dba0f"
          ]
        }
      },
      "outputs": [
        {
          "output_type": "display_data",
          "data": {
            "text/plain": [
              "data/text/chinese_charlist.txt:   0%|          | 0.00/15.8k [00:00<?, ?B/s]"
            ],
            "application/vnd.jupyter.widget-view+json": {
              "version_major": 2,
              "version_minor": 0,
              "model_id": "58f4b3cdf1614609bbbf13886267650f"
            }
          },
          "metadata": {}
        }
      ],
      "source": [
        "# Download the image from the openvino_notebooks storage based on the selected model.\n",
        "used_charlist_file = download_file(\n",
        "    \"https://storage.openvinotoolkit.org/repositories/openvino_notebooks/data/data/text/\" + selected_language.charlist_name,\n",
        "    directory=charlist_folder\n",
        ")"
      ]
    },
    {
      "cell_type": "code",
      "execution_count": 14,
      "id": "2cb18186",
      "metadata": {
        "id": "2cb18186"
      },
      "outputs": [],
      "source": [
        "# Get a dictionary to encode the output, based on model documentation.\n",
        "used_charlist = selected_language.charlist_name\n",
        "\n",
        "# With both models, there should be blank symbol added at index 0 of each charlist.\n",
        "blank_char = \"~\"\n",
        "\n",
        "with used_charlist_file.open(mode=\"r\", encoding=\"utf-8\") as charlist:\n",
        "    letters = blank_char + \"\".join(line.strip() for line in charlist)"
      ]
    },
    {
      "cell_type": "markdown",
      "id": "b6a4da65",
      "metadata": {
        "id": "b6a4da65"
      },
      "source": [
        "## Run Inference [$\\Uparrow$](#Table-of-content:)\n",
        "\n",
        "Now, run inference. The `compiled_model()` function takes a list with input(s) in the same order as model input(s). Then, fetch the output from output tensors.\n"
      ]
    },
    {
      "cell_type": "code",
      "execution_count": 15,
      "id": "e44a9de4",
      "metadata": {
        "id": "e44a9de4"
      },
      "outputs": [],
      "source": [
        "# Run inference on the model\n",
        "predictions = compiled_model([input_image])[recognition_output_layer]"
      ]
    },
    {
      "cell_type": "markdown",
      "id": "03a40d22",
      "metadata": {
        "id": "03a40d22"
      },
      "source": [
        "## Process the Output Data [$\\Uparrow$](#Table-of-content:)\n",
        "\n",
        "The output of a model is in the `W x B x L` format, where:\n",
        "\n",
        "* W - output sequence length\n",
        "* B - batch size\n",
        "* L - confidence distribution across the supported symbols in Kondate and Nakayosi.\n",
        "\n",
        "To get a more human-readable format, select a symbol with the highest probability. When you hold a list of indexes that are predicted to have the highest probability, due to limitations in [CTC Decoding](https://towardsdatascience.com/beam-search-decoding-in-ctc-trained-neural-networks-5a889a3d85a7), you will remove concurrent symbols and then remove the blanks.\n",
        "\n",
        "Finally, get the symbols from corresponding indexes in the charlist."
      ]
    },
    {
      "cell_type": "code",
      "execution_count": 16,
      "id": "da1b8bc5",
      "metadata": {
        "id": "da1b8bc5"
      },
      "outputs": [],
      "source": [
        "# Remove a batch dimension.\n",
        "predictions = np.squeeze(predictions)\n",
        "\n",
        "# Run the `argmax` function to pick the symbols with the highest probability.\n",
        "predictions_indexes = np.argmax(predictions, axis=1)"
      ]
    },
    {
      "cell_type": "code",
      "execution_count": 17,
      "id": "f6730159",
      "metadata": {
        "id": "f6730159"
      },
      "outputs": [],
      "source": [
        "# Use the `groupby` function to remove concurrent letters, as required by CTC greedy decoding.\n",
        "output_text_indexes = list(groupby(predictions_indexes))\n",
        "\n",
        "# Remove grouper objects.\n",
        "output_text_indexes, _ = np.transpose(output_text_indexes, (1, 0))\n",
        "\n",
        "# Remove blank symbols.\n",
        "output_text_indexes = output_text_indexes[output_text_indexes != 0]\n",
        "\n",
        "# Assign letters to indexes from the output array.\n",
        "output_text = [letters[letter_index] for letter_index in output_text_indexes]"
      ]
    },
    {
      "cell_type": "markdown",
      "id": "ac88f622",
      "metadata": {
        "id": "ac88f622"
      },
      "source": [
        "## Print the Output [$\\Uparrow$](#Table-of-content:)\n",
        "\n",
        "Now, having a list of letters predicted by the model, you can display the image with predicted text printed below."
      ]
    },
    {
      "cell_type": "code",
      "execution_count": 18,
      "id": "6f8a90f3",
      "metadata": {
        "id": "6f8a90f3",
        "outputId": "53ed3f1f-f7b9-425e-ec29-26bf303b7109",
        "colab": {
          "base_uri": "https://localhost:8080/",
          "height": 73
        }
      },
      "outputs": [
        {
          "output_type": "stream",
          "name": "stdout",
          "text": [
            "人有悲欢离合，月有阴睛圆缺，此事古难全。\n"
          ]
        },
        {
          "output_type": "display_data",
          "data": {
            "text/plain": [
              "<Figure size 2000x100 with 1 Axes>"
            ],
            "image/png": "[encoded data removed]"
          },
          "metadata": {}
        }
      ],
      "source": [
        "plt.figure(figsize=(20, 1))\n",
        "plt.axis(\"off\")\n",
        "plt.imshow(resized_image, cmap=\"gray\", vmin=0, vmax=255)\n",
        "\n",
        "print(\"\".join(output_text))"
      ]
    }
  ],
  "metadata": {
    "interpreter": {
      "hash": "ae617ccb002f72b3ab6d0069d721eac67ac2a969e83c083c4321cfcab0437cd1"
    },
    "kernelspec": {
      "display_name": "Python 3 (ipykernel)",
      "language": "python",
      "name": "python3"
    },
    "language_info": {
      "codemirror_mode": {
        "name": "ipython",
        "version": 3
      },
      "file_extension": ".py",
      "mimetype": "text/x-python",
      "name": "python",
      "nbconvert_exporter": "python",
      "pygments_lexer": "ipython3",
      "version": "3.10.12"
    },
    "widgets": {
      "application/vnd.jupyter.widget-state+json": {
        "bffcaaa1cf4f4f77980e25c3490249d8": {
          "model_module": "@jupyter-widgets/controls",
          "model_name": "HBoxModel",
          "model_module_version": "1.5.0",
          "state": {
            "_dom_classes": [],
            "_model_module": "@jupyter-widgets/controls",
            "_model_module_version": "1.5.0",
            "_model_name": "HBoxModel",
            "_view_count": null,
            "_view_module": "@jupyter-widgets/controls",
            "_view_module_version": "1.5.0",
            "_view_name": "HBoxView",
            "box_style": "",
            "children": [
              "IPY_MODEL_047bf675c9df4fccac9a9e055bf0a40e",
              "IPY_MODEL_9b488c32893d4fea981ad605b3bcdc89",
              "IPY_MODEL_82866268187c4889b22e6bab3dfb6128"
            ],
            "layout": "IPY_MODEL_32ac38f243354ba580d3683abecbf93a"
          }
        },
        "047bf675c9df4fccac9a9e055bf0a40e": {
          "model_module": "@jupyter-widgets/controls",
          "model_name": "HTMLModel",
          "model_module_version": "1.5.0",
          "state": {
            "_dom_classes": [],
            "_model_module": "@jupyter-widgets/controls",
            "_model_module_version": "1.5.0",
            "_model_name": "HTMLModel",
            "_view_count": null,
            "_view_module": "@jupyter-widgets/controls",
            "_view_module_version": "1.5.0",
            "_view_name": "HTMLView",
            "description": "",
            "description_tooltip": null,
            "layout": "IPY_MODEL_8024a8917ac54a4b9f981fc0ed2ed68d",
            "placeholder": "​",
            "style": "IPY_MODEL_0c4f0d9e34394fbab17a81897fb58c3b",
            "value": "models/handwritten-simplified-chinese-recognition-0001.xml: 100%"
          }
        },
        "9b488c32893d4fea981ad605b3bcdc89": {
          "model_module": "@jupyter-widgets/controls",
          "model_name": "FloatProgressModel",
          "model_module_version": "1.5.0",
          "state": {
            "_dom_classes": [],
            "_model_module": "@jupyter-widgets/controls",
            "_model_module_version": "1.5.0",
            "_model_name": "FloatProgressModel",
            "_view_count": null,
            "_view_module": "@jupyter-widgets/controls",
            "_view_module_version": "1.5.0",
            "_view_name": "ProgressView",
            "bar_style": "success",
            "description": "",
            "description_tooltip": null,
            "layout": "IPY_MODEL_7d0066ba8ff444e791d9fdf40bc70fb2",
            "max": 110372,
            "min": 0,
            "orientation": "horizontal",
            "style": "IPY_MODEL_15b4da15486d477c9686ece3c96e0257",
            "value": 110372
          }
        },
        "82866268187c4889b22e6bab3dfb6128": {
          "model_module": "@jupyter-widgets/controls",
          "model_name": "HTMLModel",
          "model_module_version": "1.5.0",
          "state": {
            "_dom_classes": [],
            "_model_module": "@jupyter-widgets/controls",
            "_model_module_version": "1.5.0",
            "_model_name": "HTMLModel",
            "_view_count": null,
            "_view_module": "@jupyter-widgets/controls",
            "_view_module_version": "1.5.0",
            "_view_name": "HTMLView",
            "description": "",
            "description_tooltip": null,
            "layout": "IPY_MODEL_86642e0b99244a0da23dfd46ad050ecd",
            "placeholder": "​",
            "style": "IPY_MODEL_c33212be5a5b4d6bbb916a3b39ee0cb1",
            "value": " 108k/108k [00:00&lt;00:00, 486kB/s]"
          }
        },
        "32ac38f243354ba580d3683abecbf93a": {
          "model_module": "@jupyter-widgets/base",
          "model_name": "LayoutModel",
          "model_module_version": "1.2.0",
          "state": {
            "_model_module": "@jupyter-widgets/base",
            "_model_module_version": "1.2.0",
            "_model_name": "LayoutModel",
            "_view_count": null,
            "_view_module": "@jupyter-widgets/base",
            "_view_module_version": "1.2.0",
            "_view_name": "LayoutView",
            "align_content": null,
            "align_items": null,
            "align_self": null,
            "border": null,
            "bottom": null,
            "display": null,
            "flex": null,
            "flex_flow": null,
            "grid_area": null,
            "grid_auto_columns": null,
            "grid_auto_flow": null,
            "grid_auto_rows": null,
            "grid_column": null,
            "grid_gap": null,
            "grid_row": null,
            "grid_template_areas": null,
            "grid_template_columns": null,
            "grid_template_rows": null,
            "height": null,
            "justify_content": null,
            "justify_items": null,
            "left": null,
            "margin": null,
            "max_height": null,
            "max_width": null,
            "min_height": null,
            "min_width": null,
            "object_fit": null,
            "object_position": null,
            "order": null,
            "overflow": null,
            "overflow_x": null,
            "overflow_y": null,
            "padding": null,
            "right": null,
            "top": null,
            "visibility": null,
            "width": null
          }
        },
        "8024a8917ac54a4b9f981fc0ed2ed68d": {
          "model_module": "@jupyter-widgets/base",
          "model_name": "LayoutModel",
          "model_module_version": "1.2.0",
          "state": {
            "_model_module": "@jupyter-widgets/base",
            "_model_module_version": "1.2.0",
            "_model_name": "LayoutModel",
            "_view_count": null,
            "_view_module": "@jupyter-widgets/base",
            "_view_module_version": "1.2.0",
            "_view_name": "LayoutView",
            "align_content": null,
            "align_items": null,
            "align_self": null,
            "border": null,
            "bottom": null,
            "display": null,
            "flex": null,
            "flex_flow": null,
            "grid_area": null,
            "grid_auto_columns": null,
            "grid_auto_flow": null,
            "grid_auto_rows": null,
            "grid_column": null,
            "grid_gap": null,
            "grid_row": null,
            "grid_template_areas": null,
            "grid_template_columns": null,
            "grid_template_rows": null,
            "height": null,
            "justify_content": null,
            "justify_items": null,
            "left": null,
            "margin": null,
            "max_height": null,
            "max_width": null,
            "min_height": null,
            "min_width": null,
            "object_fit": null,
            "object_position": null,
            "order": null,
            "overflow": null,
            "overflow_x": null,
            "overflow_y": null,
            "padding": null,
            "right": null,
            "top": null,
            "visibility": null,
            "width": null
          }
        },
        "0c4f0d9e34394fbab17a81897fb58c3b": {
          "model_module": "@jupyter-widgets/controls",
          "model_name": "DescriptionStyleModel",
          "model_module_version": "1.5.0",
          "state": {
            "_model_module": "@jupyter-widgets/controls",
            "_model_module_version": "1.5.0",
            "_model_name": "DescriptionStyleModel",
            "_view_count": null,
            "_view_module": "@jupyter-widgets/base",
            "_view_module_version": "1.2.0",
            "_view_name": "StyleView",
            "description_width": ""
          }
        },
        "7d0066ba8ff444e791d9fdf40bc70fb2": {
          "model_module": "@jupyter-widgets/base",
          "model_name": "LayoutModel",
          "model_module_version": "1.2.0",
          "state": {
            "_model_module": "@jupyter-widgets/base",
            "_model_module_version": "1.2.0",
            "_model_name": "LayoutModel",
            "_view_count": null,
            "_view_module": "@jupyter-widgets/base",
            "_view_module_version": "1.2.0",
            "_view_name": "LayoutView",
            "align_content": null,
            "align_items": null,
            "align_self": null,
            "border": null,
            "bottom": null,
            "display": null,
            "flex": null,
            "flex_flow": null,
            "grid_area": null,
            "grid_auto_columns": null,
            "grid_auto_flow": null,
            "grid_auto_rows": null,
            "grid_column": null,
            "grid_gap": null,
            "grid_row": null,
            "grid_template_areas": null,
            "grid_template_columns": null,
            "grid_template_rows": null,
            "height": null,
            "justify_content": null,
            "justify_items": null,
            "left": null,
            "margin": null,
            "max_height": null,
            "max_width": null,
            "min_height": null,
            "min_width": null,
            "object_fit": null,
            "object_position": null,
            "order": null,
            "overflow": null,
            "overflow_x": null,
            "overflow_y": null,
            "padding": null,
            "right": null,
            "top": null,
            "visibility": null,
            "width": null
          }
        },
        "15b4da15486d477c9686ece3c96e0257": {
          "model_module": "@jupyter-widgets/controls",
          "model_name": "ProgressStyleModel",
          "model_module_version": "1.5.0",
          "state": {
            "_model_module": "@jupyter-widgets/controls",
            "_model_module_version": "1.5.0",
            "_model_name": "ProgressStyleModel",
            "_view_count": null,
            "_view_module": "@jupyter-widgets/base",
            "_view_module_version": "1.2.0",
            "_view_name": "StyleView",
            "bar_color": null,
            "description_width": ""
          }
        },
        "86642e0b99244a0da23dfd46ad050ecd": {
          "model_module": "@jupyter-widgets/base",
          "model_name": "LayoutModel",
          "model_module_version": "1.2.0",
          "state": {
            "_model_module": "@jupyter-widgets/base",
            "_model_module_version": "1.2.0",
            "_model_name": "LayoutModel",
            "_view_count": null,
            "_view_module": "@jupyter-widgets/base",
            "_view_module_version": "1.2.0",
            "_view_name": "LayoutView",
            "align_content": null,
            "align_items": null,
            "align_self": null,
            "border": null,
            "bottom": null,
            "display": null,
            "flex": null,
            "flex_flow": null,
            "grid_area": null,
            "grid_auto_columns": null,
            "grid_auto_flow": null,
            "grid_auto_rows": null,
            "grid_column": null,
            "grid_gap": null,
            "grid_row": null,
            "grid_template_areas": null,
            "grid_template_columns": null,
            "grid_template_rows": null,
            "height": null,
            "justify_content": null,
            "justify_items": null,
            "left": null,
            "margin": null,
            "max_height": null,
            "max_width": null,
            "min_height": null,
            "min_width": null,
            "object_fit": null,
            "object_position": null,
            "order": null,
            "overflow": null,
            "overflow_x": null,
            "overflow_y": null,
            "padding": null,
            "right": null,
            "top": null,
            "visibility": null,
            "width": null
          }
        },
        "c33212be5a5b4d6bbb916a3b39ee0cb1": {
          "model_module": "@jupyter-widgets/controls",
          "model_name": "DescriptionStyleModel",
          "model_module_version": "1.5.0",
          "state": {
            "_model_module": "@jupyter-widgets/controls",
            "_model_module_version": "1.5.0",
            "_model_name": "DescriptionStyleModel",
            "_view_count": null,
            "_view_module": "@jupyter-widgets/base",
            "_view_module_version": "1.2.0",
            "_view_name": "StyleView",
            "description_width": ""
          }
        },
        "4f0d2b66484f4fa7857eea047f19bd74": {
          "model_module": "@jupyter-widgets/controls",
          "model_name": "HBoxModel",
          "model_module_version": "1.5.0",
          "state": {
            "_dom_classes": [],
            "_model_module": "@jupyter-widgets/controls",
            "_model_module_version": "1.5.0",
            "_model_name": "HBoxModel",
            "_view_count": null,
            "_view_module": "@jupyter-widgets/controls",
            "_view_module_version": "1.5.0",
            "_view_name": "HBoxView",
            "box_style": "",
            "children": [
              "IPY_MODEL_247a3d0f0cba4f1db277ba406168594d",
              "IPY_MODEL_4a9ff99282904b9f94e65003e77ac6bb",
              "IPY_MODEL_3f3e7188747c42d28087d4dc1add0662"
            ],
            "layout": "IPY_MODEL_8eabc8169b8c4bd79d68930043e3de86"
          }
        },
        "247a3d0f0cba4f1db277ba406168594d": {
          "model_module": "@jupyter-widgets/controls",
          "model_name": "HTMLModel",
          "model_module_version": "1.5.0",
          "state": {
            "_dom_classes": [],
            "_model_module": "@jupyter-widgets/controls",
            "_model_module_version": "1.5.0",
            "_model_name": "HTMLModel",
            "_view_count": null,
            "_view_module": "@jupyter-widgets/controls",
            "_view_module_version": "1.5.0",
            "_view_name": "HTMLView",
            "description": "",
            "description_tooltip": null,
            "layout": "IPY_MODEL_b8139bfd18c1468a8abf9e2cd4a50ba1",
            "placeholder": "​",
            "style": "IPY_MODEL_52589bf9a9bf4a0fbdb59bb28aa1c2ad",
            "value": "models/handwritten-simplified-chinese-recognition-0001.bin: 100%"
          }
        },
        "4a9ff99282904b9f94e65003e77ac6bb": {
          "model_module": "@jupyter-widgets/controls",
          "model_name": "FloatProgressModel",
          "model_module_version": "1.5.0",
          "state": {
            "_dom_classes": [],
            "_model_module": "@jupyter-widgets/controls",
            "_model_module_version": "1.5.0",
            "_model_name": "FloatProgressModel",
            "_view_count": null,
            "_view_module": "@jupyter-widgets/controls",
            "_view_module_version": "1.5.0",
            "_view_name": "ProgressView",
            "bar_style": "success",
            "description": "",
            "description_tooltip": null,
            "layout": "IPY_MODEL_9f488d7ba1c845d48ee3a6d1c542cfe4",
            "max": 34535880,
            "min": 0,
            "orientation": "horizontal",
            "style": "IPY_MODEL_27e917aa93314519ab0104006ab95d2c",
            "value": 34535880
          }
        },
        "3f3e7188747c42d28087d4dc1add0662": {
          "model_module": "@jupyter-widgets/controls",
          "model_name": "HTMLModel",
          "model_module_version": "1.5.0",
          "state": {
            "_dom_classes": [],
            "_model_module": "@jupyter-widgets/controls",
            "_model_module_version": "1.5.0",
            "_model_name": "HTMLModel",
            "_view_count": null,
            "_view_module": "@jupyter-widgets/controls",
            "_view_module_version": "1.5.0",
            "_view_name": "HTMLView",
            "description": "",
            "description_tooltip": null,
            "layout": "IPY_MODEL_f9a2ca0582594df8b7f819adb2129989",
            "placeholder": "​",
            "style": "IPY_MODEL_2d01d374f6754f94bf84da15b6ea94aa",
            "value": " 32.9M/32.9M [00:04&lt;00:00, 10.8MB/s]"
          }
        },
        "8eabc8169b8c4bd79d68930043e3de86": {
          "model_module": "@jupyter-widgets/base",
          "model_name": "LayoutModel",
          "model_module_version": "1.2.0",
          "state": {
            "_model_module": "@jupyter-widgets/base",
            "_model_module_version": "1.2.0",
            "_model_name": "LayoutModel",
            "_view_count": null,
            "_view_module": "@jupyter-widgets/base",
            "_view_module_version": "1.2.0",
            "_view_name": "LayoutView",
            "align_content": null,
            "align_items": null,
            "align_self": null,
            "border": null,
            "bottom": null,
            "display": null,
            "flex": null,
            "flex_flow": null,
            "grid_area": null,
            "grid_auto_columns": null,
            "grid_auto_flow": null,
            "grid_auto_rows": null,
            "grid_column": null,
            "grid_gap": null,
            "grid_row": null,
            "grid_template_areas": null,
            "grid_template_columns": null,
            "grid_template_rows": null,
            "height": null,
            "justify_content": null,
            "justify_items": null,
            "left": null,
            "margin": null,
            "max_height": null,
            "max_width": null,
            "min_height": null,
            "min_width": null,
            "object_fit": null,
            "object_position": null,
            "order": null,
            "overflow": null,
            "overflow_x": null,
            "overflow_y": null,
            "padding": null,
            "right": null,
            "top": null,
            "visibility": null,
            "width": null
          }
        },
        "b8139bfd18c1468a8abf9e2cd4a50ba1": {
          "model_module": "@jupyter-widgets/base",
          "model_name": "LayoutModel",
          "model_module_version": "1.2.0",
          "state": {
            "_model_module": "@jupyter-widgets/base",
            "_model_module_version": "1.2.0",
            "_model_name": "LayoutModel",
            "_view_count": null,
            "_view_module": "@jupyter-widgets/base",
            "_view_module_version": "1.2.0",
            "_view_name": "LayoutView",
            "align_content": null,
            "align_items": null,
            "align_self": null,
            "border": null,
            "bottom": null,
            "display": null,
            "flex": null,
            "flex_flow": null,
            "grid_area": null,
            "grid_auto_columns": null,
            "grid_auto_flow": null,
            "grid_auto_rows": null,
            "grid_column": null,
            "grid_gap": null,
            "grid_row": null,
            "grid_template_areas": null,
            "grid_template_columns": null,
            "grid_template_rows": null,
            "height": null,
            "justify_content": null,
            "justify_items": null,
            "left": null,
            "margin": null,
            "max_height": null,
            "max_width": null,
            "min_height": null,
            "min_width": null,
            "object_fit": null,
            "object_position": null,
            "order": null,
            "overflow": null,
            "overflow_x": null,
            "overflow_y": null,
            "padding": null,
            "right": null,
            "top": null,
            "visibility": null,
            "width": null
          }
        },
        "52589bf9a9bf4a0fbdb59bb28aa1c2ad": {
          "model_module": "@jupyter-widgets/controls",
          "model_name": "DescriptionStyleModel",
          "model_module_version": "1.5.0",
          "state": {
            "_model_module": "@jupyter-widgets/controls",
            "_model_module_version": "1.5.0",
            "_model_name": "DescriptionStyleModel",
            "_view_count": null,
            "_view_module": "@jupyter-widgets/base",
            "_view_module_version": "1.2.0",
            "_view_name": "StyleView",
            "description_width": ""
          }
        },
        "9f488d7ba1c845d48ee3a6d1c542cfe4": {
          "model_module": "@jupyter-widgets/base",
          "model_name": "LayoutModel",
          "model_module_version": "1.2.0",
          "state": {
            "_model_module": "@jupyter-widgets/base",
            "_model_module_version": "1.2.0",
            "_model_name": "LayoutModel",
            "_view_count": null,
            "_view_module": "@jupyter-widgets/base",
            "_view_module_version": "1.2.0",
            "_view_name": "LayoutView",
            "align_content": null,
            "align_items": null,
            "align_self": null,
            "border": null,
            "bottom": null,
            "display": null,
            "flex": null,
            "flex_flow": null,
            "grid_area": null,
            "grid_auto_columns": null,
            "grid_auto_flow": null,
            "grid_auto_rows": null,
            "grid_column": null,
            "grid_gap": null,
            "grid_row": null,
            "grid_template_areas": null,
            "grid_template_columns": null,
            "grid_template_rows": null,
            "height": null,
            "justify_content": null,
            "justify_items": null,
            "left": null,
            "margin": null,
            "max_height": null,
            "max_width": null,
            "min_height": null,
            "min_width": null,
            "object_fit": null,
            "object_position": null,
            "order": null,
            "overflow": null,
            "overflow_x": null,
            "overflow_y": null,
            "padding": null,
            "right": null,
            "top": null,
            "visibility": null,
            "width": null
          }
        },
        "27e917aa93314519ab0104006ab95d2c": {
          "model_module": "@jupyter-widgets/controls",
          "model_name": "ProgressStyleModel",
          "model_module_version": "1.5.0",
          "state": {
            "_model_module": "@jupyter-widgets/controls",
            "_model_module_version": "1.5.0",
            "_model_name": "ProgressStyleModel",
            "_view_count": null,
            "_view_module": "@jupyter-widgets/base",
            "_view_module_version": "1.2.0",
            "_view_name": "StyleView",
            "bar_color": null,
            "description_width": ""
          }
        },
        "f9a2ca0582594df8b7f819adb2129989": {
          "model_module": "@jupyter-widgets/base",
          "model_name": "LayoutModel",
          "model_module_version": "1.2.0",
          "state": {
            "_model_module": "@jupyter-widgets/base",
            "_model_module_version": "1.2.0",
            "_model_name": "LayoutModel",
            "_view_count": null,
            "_view_module": "@jupyter-widgets/base",
            "_view_module_version": "1.2.0",
            "_view_name": "LayoutView",
            "align_content": null,
            "align_items": null,
            "align_self": null,
            "border": null,
            "bottom": null,
            "display": null,
            "flex": null,
            "flex_flow": null,
            "grid_area": null,
            "grid_auto_columns": null,
            "grid_auto_flow": null,
            "grid_auto_rows": null,
            "grid_column": null,
            "grid_gap": null,
            "grid_row": null,
            "grid_template_areas": null,
            "grid_template_columns": null,
            "grid_template_rows": null,
            "height": null,
            "justify_content": null,
            "justify_items": null,
            "left": null,
            "margin": null,
            "max_height": null,
            "max_width": null,
            "min_height": null,
            "min_width": null,
            "object_fit": null,
            "object_position": null,
            "order": null,
            "overflow": null,
            "overflow_x": null,
            "overflow_y": null,
            "padding": null,
            "right": null,
            "top": null,
            "visibility": null,
            "width": null
          }
        },
        "2d01d374f6754f94bf84da15b6ea94aa": {
          "model_module": "@jupyter-widgets/controls",
          "model_name": "DescriptionStyleModel",
          "model_module_version": "1.5.0",
          "state": {
            "_model_module": "@jupyter-widgets/controls",
            "_model_module_version": "1.5.0",
            "_model_name": "DescriptionStyleModel",
            "_view_count": null,
            "_view_module": "@jupyter-widgets/base",
            "_view_module_version": "1.2.0",
            "_view_name": "StyleView",
            "description_width": ""
          }
        },
        "120e9af07bb34757a8ba9254500fa5a5": {
          "model_module": "@jupyter-widgets/controls",
          "model_name": "DropdownModel",
          "model_module_version": "1.5.0",
          "state": {
            "_dom_classes": [],
            "_model_module": "@jupyter-widgets/controls",
            "_model_module_version": "1.5.0",
            "_model_name": "DropdownModel",
            "_options_labels": [
              "CPU",
              "AUTO"
            ],
            "_view_count": null,
            "_view_module": "@jupyter-widgets/controls",
            "_view_module_version": "1.5.0",
            "_view_name": "DropdownView",
            "description": "Device:",
            "description_tooltip": null,
            "disabled": false,
            "index": 1,
            "layout": "IPY_MODEL_b48fa59edce94d2a8d4337cf400a6c95",
            "style": "IPY_MODEL_f57ea6bef7194a7dac0786978d3d68e0"
          }
        },
        "b48fa59edce94d2a8d4337cf400a6c95": {
          "model_module": "@jupyter-widgets/base",
          "model_name": "LayoutModel",
          "model_module_version": "1.2.0",
          "state": {
            "_model_module": "@jupyter-widgets/base",
            "_model_module_version": "1.2.0",
            "_model_name": "LayoutModel",
            "_view_count": null,
            "_view_module": "@jupyter-widgets/base",
            "_view_module_version": "1.2.0",
            "_view_name": "LayoutView",
            "align_content": null,
            "align_items": null,
            "align_self": null,
            "border": null,
            "bottom": null,
            "display": null,
            "flex": null,
            "flex_flow": null,
            "grid_area": null,
            "grid_auto_columns": null,
            "grid_auto_flow": null,
            "grid_auto_rows": null,
            "grid_column": null,
            "grid_gap": null,
            "grid_row": null,
            "grid_template_areas": null,
            "grid_template_columns": null,
            "grid_template_rows": null,
            "height": null,
            "justify_content": null,
            "justify_items": null,
            "left": null,
            "margin": null,
            "max_height": null,
            "max_width": null,
            "min_height": null,
            "min_width": null,
            "object_fit": null,
            "object_position": null,
            "order": null,
            "overflow": null,
            "overflow_x": null,
            "overflow_y": null,
            "padding": null,
            "right": null,
            "top": null,
            "visibility": null,
            "width": null
          }
        },
        "f57ea6bef7194a7dac0786978d3d68e0": {
          "model_module": "@jupyter-widgets/controls",
          "model_name": "DescriptionStyleModel",
          "model_module_version": "1.5.0",
          "state": {
            "_model_module": "@jupyter-widgets/controls",
            "_model_module_version": "1.5.0",
            "_model_name": "DescriptionStyleModel",
            "_view_count": null,
            "_view_module": "@jupyter-widgets/base",
            "_view_module_version": "1.2.0",
            "_view_name": "StyleView",
            "description_width": ""
          }
        },
        "14bd97008a1241f18d7e56ffbad0748e": {
          "model_module": "@jupyter-widgets/controls",
          "model_name": "HBoxModel",
          "model_module_version": "1.5.0",
          "state": {
            "_dom_classes": [],
            "_model_module": "@jupyter-widgets/controls",
            "_model_module_version": "1.5.0",
            "_model_name": "HBoxModel",
            "_view_count": null,
            "_view_module": "@jupyter-widgets/controls",
            "_view_module_version": "1.5.0",
            "_view_name": "HBoxView",
            "box_style": "",
            "children": [
              "IPY_MODEL_e0679375ad3a4bcb984a059949e86df2",
              "IPY_MODEL_a1d371ffe84c47fd90cf36c287a1b0da",
              "IPY_MODEL_542b90aabb4c4219938fb9373c491836"
            ],
            "layout": "IPY_MODEL_cbd95afb90654be596db313951796d68"
          }
        },
        "e0679375ad3a4bcb984a059949e86df2": {
          "model_module": "@jupyter-widgets/controls",
          "model_name": "HTMLModel",
          "model_module_version": "1.5.0",
          "state": {
            "_dom_classes": [],
            "_model_module": "@jupyter-widgets/controls",
            "_model_module_version": "1.5.0",
            "_model_name": "HTMLModel",
            "_view_count": null,
            "_view_module": "@jupyter-widgets/controls",
            "_view_module_version": "1.5.0",
            "_view_name": "HTMLView",
            "description": "",
            "description_tooltip": null,
            "layout": "IPY_MODEL_047ab01c5cb94ed98647679486d02ebc",
            "placeholder": "​",
            "style": "IPY_MODEL_dcaf50b7b17b4aa0b06b84d47175b296",
            "value": "data/handwritten_chinese_test.jpg: 100%"
          }
        },
        "a1d371ffe84c47fd90cf36c287a1b0da": {
          "model_module": "@jupyter-widgets/controls",
          "model_name": "FloatProgressModel",
          "model_module_version": "1.5.0",
          "state": {
            "_dom_classes": [],
            "_model_module": "@jupyter-widgets/controls",
            "_model_module_version": "1.5.0",
            "_model_name": "FloatProgressModel",
            "_view_count": null,
            "_view_module": "@jupyter-widgets/controls",
            "_view_module_version": "1.5.0",
            "_view_name": "ProgressView",
            "bar_style": "success",
            "description": "",
            "description_tooltip": null,
            "layout": "IPY_MODEL_e7e74ae5030a4a67a213905e627b0802",
            "max": 43133,
            "min": 0,
            "orientation": "horizontal",
            "style": "IPY_MODEL_3e62018af42d4c4a97db653b0ce29446",
            "value": 43133
          }
        },
        "542b90aabb4c4219938fb9373c491836": {
          "model_module": "@jupyter-widgets/controls",
          "model_name": "HTMLModel",
          "model_module_version": "1.5.0",
          "state": {
            "_dom_classes": [],
            "_model_module": "@jupyter-widgets/controls",
            "_model_module_version": "1.5.0",
            "_model_name": "HTMLModel",
            "_view_count": null,
            "_view_module": "@jupyter-widgets/controls",
            "_view_module_version": "1.5.0",
            "_view_name": "HTMLView",
            "description": "",
            "description_tooltip": null,
            "layout": "IPY_MODEL_292b663eb7924500af0d360700c45ca5",
            "placeholder": "​",
            "style": "IPY_MODEL_8f77f58704794221b6a2d6766d2dbf91",
            "value": " 42.1k/42.1k [00:00&lt;00:00, 442kB/s]"
          }
        },
        "cbd95afb90654be596db313951796d68": {
          "model_module": "@jupyter-widgets/base",
          "model_name": "LayoutModel",
          "model_module_version": "1.2.0",
          "state": {
            "_model_module": "@jupyter-widgets/base",
            "_model_module_version": "1.2.0",
            "_model_name": "LayoutModel",
            "_view_count": null,
            "_view_module": "@jupyter-widgets/base",
            "_view_module_version": "1.2.0",
            "_view_name": "LayoutView",
            "align_content": null,
            "align_items": null,
            "align_self": null,
            "border": null,
            "bottom": null,
            "display": null,
            "flex": null,
            "flex_flow": null,
            "grid_area": null,
            "grid_auto_columns": null,
            "grid_auto_flow": null,
            "grid_auto_rows": null,
            "grid_column": null,
            "grid_gap": null,
            "grid_row": null,
            "grid_template_areas": null,
            "grid_template_columns": null,
            "grid_template_rows": null,
            "height": null,
            "justify_content": null,
            "justify_items": null,
            "left": null,
            "margin": null,
            "max_height": null,
            "max_width": null,
            "min_height": null,
            "min_width": null,
            "object_fit": null,
            "object_position": null,
            "order": null,
            "overflow": null,
            "overflow_x": null,
            "overflow_y": null,
            "padding": null,
            "right": null,
            "top": null,
            "visibility": null,
            "width": null
          }
        },
        "047ab01c5cb94ed98647679486d02ebc": {
          "model_module": "@jupyter-widgets/base",
          "model_name": "LayoutModel",
          "model_module_version": "1.2.0",
          "state": {
            "_model_module": "@jupyter-widgets/base",
            "_model_module_version": "1.2.0",
            "_model_name": "LayoutModel",
            "_view_count": null,
            "_view_module": "@jupyter-widgets/base",
            "_view_module_version": "1.2.0",
            "_view_name": "LayoutView",
            "align_content": null,
            "align_items": null,
            "align_self": null,
            "border": null,
            "bottom": null,
            "display": null,
            "flex": null,
            "flex_flow": null,
            "grid_area": null,
            "grid_auto_columns": null,
            "grid_auto_flow": null,
            "grid_auto_rows": null,
            "grid_column": null,
            "grid_gap": null,
            "grid_row": null,
            "grid_template_areas": null,
            "grid_template_columns": null,
            "grid_template_rows": null,
            "height": null,
            "justify_content": null,
            "justify_items": null,
            "left": null,
            "margin": null,
            "max_height": null,
            "max_width": null,
            "min_height": null,
            "min_width": null,
            "object_fit": null,
            "object_position": null,
            "order": null,
            "overflow": null,
            "overflow_x": null,
            "overflow_y": null,
            "padding": null,
            "right": null,
            "top": null,
            "visibility": null,
            "width": null
          }
        },
        "dcaf50b7b17b4aa0b06b84d47175b296": {
          "model_module": "@jupyter-widgets/controls",
          "model_name": "DescriptionStyleModel",
          "model_module_version": "1.5.0",
          "state": {
            "_model_module": "@jupyter-widgets/controls",
            "_model_module_version": "1.5.0",
            "_model_name": "DescriptionStyleModel",
            "_view_count": null,
            "_view_module": "@jupyter-widgets/base",
            "_view_module_version": "1.2.0",
            "_view_name": "StyleView",
            "description_width": ""
          }
        },
        "e7e74ae5030a4a67a213905e627b0802": {
          "model_module": "@jupyter-widgets/base",
          "model_name": "LayoutModel",
          "model_module_version": "1.2.0",
          "state": {
            "_model_module": "@jupyter-widgets/base",
            "_model_module_version": "1.2.0",
            "_model_name": "LayoutModel",
            "_view_count": null,
            "_view_module": "@jupyter-widgets/base",
            "_view_module_version": "1.2.0",
            "_view_name": "LayoutView",
            "align_content": null,
            "align_items": null,
            "align_self": null,
            "border": null,
            "bottom": null,
            "display": null,
            "flex": null,
            "flex_flow": null,
            "grid_area": null,
            "grid_auto_columns": null,
            "grid_auto_flow": null,
            "grid_auto_rows": null,
            "grid_column": null,
            "grid_gap": null,
            "grid_row": null,
            "grid_template_areas": null,
            "grid_template_columns": null,
            "grid_template_rows": null,
            "height": null,
            "justify_content": null,
            "justify_items": null,
            "left": null,
            "margin": null,
            "max_height": null,
            "max_width": null,
            "min_height": null,
            "min_width": null,
            "object_fit": null,
            "object_position": null,
            "order": null,
            "overflow": null,
            "overflow_x": null,
            "overflow_y": null,
            "padding": null,
            "right": null,
            "top": null,
            "visibility": null,
            "width": null
          }
        },
        "3e62018af42d4c4a97db653b0ce29446": {
          "model_module": "@jupyter-widgets/controls",
          "model_name": "ProgressStyleModel",
          "model_module_version": "1.5.0",
          "state": {
            "_model_module": "@jupyter-widgets/controls",
            "_model_module_version": "1.5.0",
            "_model_name": "ProgressStyleModel",
            "_view_count": null,
            "_view_module": "@jupyter-widgets/base",
            "_view_module_version": "1.2.0",
            "_view_name": "StyleView",
            "bar_color": null,
            "description_width": ""
          }
        },
        "292b663eb7924500af0d360700c45ca5": {
          "model_module": "@jupyter-widgets/base",
          "model_name": "LayoutModel",
          "model_module_version": "1.2.0",
          "state": {
            "_model_module": "@jupyter-widgets/base",
            "_model_module_version": "1.2.0",
            "_model_name": "LayoutModel",
            "_view_count": null,
            "_view_module": "@jupyter-widgets/base",
            "_view_module_version": "1.2.0",
            "_view_name": "LayoutView",
            "align_content": null,
            "align_items": null,
            "align_self": null,
            "border": null,
            "bottom": null,
            "display": null,
            "flex": null,
            "flex_flow": null,
            "grid_area": null,
            "grid_auto_columns": null,
            "grid_auto_flow": null,
            "grid_auto_rows": null,
            "grid_column": null,
            "grid_gap": null,
            "grid_row": null,
            "grid_template_areas": null,
            "grid_template_columns": null,
            "grid_template_rows": null,
            "height": null,
            "justify_content": null,
            "justify_items": null,
            "left": null,
            "margin": null,
            "max_height": null,
            "max_width": null,
            "min_height": null,
            "min_width": null,
            "object_fit": null,
            "object_position": null,
            "order": null,
            "overflow": null,
            "overflow_x": null,
            "overflow_y": null,
            "padding": null,
            "right": null,
            "top": null,
            "visibility": null,
            "width": null
          }
        },
        "8f77f58704794221b6a2d6766d2dbf91": {
          "model_module": "@jupyter-widgets/controls",
          "model_name": "DescriptionStyleModel",
          "model_module_version": "1.5.0",
          "state": {
            "_model_module": "@jupyter-widgets/controls",
            "_model_module_version": "1.5.0",
            "_model_name": "DescriptionStyleModel",
            "_view_count": null,
            "_view_module": "@jupyter-widgets/base",
            "_view_module_version": "1.2.0",
            "_view_name": "StyleView",
            "description_width": ""
          }
        },
        "58f4b3cdf1614609bbbf13886267650f": {
          "model_module": "@jupyter-widgets/controls",
          "model_name": "HBoxModel",
          "model_module_version": "1.5.0",
          "state": {
            "_dom_classes": [],
            "_model_module": "@jupyter-widgets/controls",
            "_model_module_version": "1.5.0",
            "_model_name": "HBoxModel",
            "_view_count": null,
            "_view_module": "@jupyter-widgets/controls",
            "_view_module_version": "1.5.0",
            "_view_name": "HBoxView",
            "box_style": "",
            "children": [
              "IPY_MODEL_0aeb2ef9c5824f91aea0a869478aa101",
              "IPY_MODEL_ed550d3afde44680b89be7890a7d5781",
              "IPY_MODEL_5d72eab9a25740cbadc91095ab0834e7"
            ],
            "layout": "IPY_MODEL_4b6d4a6f33ff4d7f8f2c220fe1979e17"
          }
        },
        "0aeb2ef9c5824f91aea0a869478aa101": {
          "model_module": "@jupyter-widgets/controls",
          "model_name": "HTMLModel",
          "model_module_version": "1.5.0",
          "state": {
            "_dom_classes": [],
            "_model_module": "@jupyter-widgets/controls",
            "_model_module_version": "1.5.0",
            "_model_name": "HTMLModel",
            "_view_count": null,
            "_view_module": "@jupyter-widgets/controls",
            "_view_module_version": "1.5.0",
            "_view_name": "HTMLView",
            "description": "",
            "description_tooltip": null,
            "layout": "IPY_MODEL_2c00f130c37a4332a7fdcb5586547233",
            "placeholder": "​",
            "style": "IPY_MODEL_8f56b18beb0c4235aae06d9a7af4d3a7",
            "value": "data/text/chinese_charlist.txt: 100%"
          }
        },
        "ed550d3afde44680b89be7890a7d5781": {
          "model_module": "@jupyter-widgets/controls",
          "model_name": "FloatProgressModel",
          "model_module_version": "1.5.0",
          "state": {
            "_dom_classes": [],
            "_model_module": "@jupyter-widgets/controls",
            "_model_module_version": "1.5.0",
            "_model_name": "FloatProgressModel",
            "_view_count": null,
            "_view_module": "@jupyter-widgets/controls",
            "_view_module_version": "1.5.0",
            "_view_name": "ProgressView",
            "bar_style": "success",
            "description": "",
            "description_tooltip": null,
            "layout": "IPY_MODEL_455a41443c6f46d18fe4d0a34a028b69",
            "max": 16211,
            "min": 0,
            "orientation": "horizontal",
            "style": "IPY_MODEL_e76bb47b0b184606b251a6aaffc0fb92",
            "value": 16211
          }
        },
        "5d72eab9a25740cbadc91095ab0834e7": {
          "model_module": "@jupyter-widgets/controls",
          "model_name": "HTMLModel",
          "model_module_version": "1.5.0",
          "state": {
            "_dom_classes": [],
            "_model_module": "@jupyter-widgets/controls",
            "_model_module_version": "1.5.0",
            "_model_name": "HTMLModel",
            "_view_count": null,
            "_view_module": "@jupyter-widgets/controls",
            "_view_module_version": "1.5.0",
            "_view_name": "HTMLView",
            "description": "",
            "description_tooltip": null,
            "layout": "IPY_MODEL_0af3dbd23730455691ac32074d7cf3d9",
            "placeholder": "​",
            "style": "IPY_MODEL_f53012f22cc4435daa0ca203035dba0f",
            "value": " 15.8k/15.8k [00:00&lt;00:00, 696kB/s]"
          }
        },
        "4b6d4a6f33ff4d7f8f2c220fe1979e17": {
          "model_module": "@jupyter-widgets/base",
          "model_name": "LayoutModel",
          "model_module_version": "1.2.0",
          "state": {
            "_model_module": "@jupyter-widgets/base",
            "_model_module_version": "1.2.0",
            "_model_name": "LayoutModel",
            "_view_count": null,
            "_view_module": "@jupyter-widgets/base",
            "_view_module_version": "1.2.0",
            "_view_name": "LayoutView",
            "align_content": null,
            "align_items": null,
            "align_self": null,
            "border": null,
            "bottom": null,
            "display": null,
            "flex": null,
            "flex_flow": null,
            "grid_area": null,
            "grid_auto_columns": null,
            "grid_auto_flow": null,
            "grid_auto_rows": null,
            "grid_column": null,
            "grid_gap": null,
            "grid_row": null,
            "grid_template_areas": null,
            "grid_template_columns": null,
            "grid_template_rows": null,
            "height": null,
            "justify_content": null,
            "justify_items": null,
            "left": null,
            "margin": null,
            "max_height": null,
            "max_width": null,
            "min_height": null,
            "min_width": null,
            "object_fit": null,
            "object_position": null,
            "order": null,
            "overflow": null,
            "overflow_x": null,
            "overflow_y": null,
            "padding": null,
            "right": null,
            "top": null,
            "visibility": null,
            "width": null
          }
        },
        "2c00f130c37a4332a7fdcb5586547233": {
          "model_module": "@jupyter-widgets/base",
          "model_name": "LayoutModel",
          "model_module_version": "1.2.0",
          "state": {
            "_model_module": "@jupyter-widgets/base",
            "_model_module_version": "1.2.0",
            "_model_name": "LayoutModel",
            "_view_count": null,
            "_view_module": "@jupyter-widgets/base",
            "_view_module_version": "1.2.0",
            "_view_name": "LayoutView",
            "align_content": null,
            "align_items": null,
            "align_self": null,
            "border": null,
            "bottom": null,
            "display": null,
            "flex": null,
            "flex_flow": null,
            "grid_area": null,
            "grid_auto_columns": null,
            "grid_auto_flow": null,
            "grid_auto_rows": null,
            "grid_column": null,
            "grid_gap": null,
            "grid_row": null,
            "grid_template_areas": null,
            "grid_template_columns": null,
            "grid_template_rows": null,
            "height": null,
            "justify_content": null,
            "justify_items": null,
            "left": null,
            "margin": null,
            "max_height": null,
            "max_width": null,
            "min_height": null,
            "min_width": null,
            "object_fit": null,
            "object_position": null,
            "order": null,
            "overflow": null,
            "overflow_x": null,
            "overflow_y": null,
            "padding": null,
            "right": null,
            "top": null,
            "visibility": null,
            "width": null
          }
        },
        "8f56b18beb0c4235aae06d9a7af4d3a7": {
          "model_module": "@jupyter-widgets/controls",
          "model_name": "DescriptionStyleModel",
          "model_module_version": "1.5.0",
          "state": {
            "_model_module": "@jupyter-widgets/controls",
            "_model_module_version": "1.5.0",
            "_model_name": "DescriptionStyleModel",
            "_view_count": null,
            "_view_module": "@jupyter-widgets/base",
            "_view_module_version": "1.2.0",
            "_view_name": "StyleView",
            "description_width": ""
          }
        },
        "455a41443c6f46d18fe4d0a34a028b69": {
          "model_module": "@jupyter-widgets/base",
          "model_name": "LayoutModel",
          "model_module_version": "1.2.0",
          "state": {
            "_model_module": "@jupyter-widgets/base",
            "_model_module_version": "1.2.0",
            "_model_name": "LayoutModel",
            "_view_count": null,
            "_view_module": "@jupyter-widgets/base",
            "_view_module_version": "1.2.0",
            "_view_name": "LayoutView",
            "align_content": null,
            "align_items": null,
            "align_self": null,
            "border": null,
            "bottom": null,
            "display": null,
            "flex": null,
            "flex_flow": null,
            "grid_area": null,
            "grid_auto_columns": null,
            "grid_auto_flow": null,
            "grid_auto_rows": null,
            "grid_column": null,
            "grid_gap": null,
            "grid_row": null,
            "grid_template_areas": null,
            "grid_template_columns": null,
            "grid_template_rows": null,
            "height": null,
            "justify_content": null,
            "justify_items": null,
            "left": null,
            "margin": null,
            "max_height": null,
            "max_width": null,
            "min_height": null,
            "min_width": null,
            "object_fit": null,
            "object_position": null,
            "order": null,
            "overflow": null,
            "overflow_x": null,
            "overflow_y": null,
            "padding": null,
            "right": null,
            "top": null,
            "visibility": null,
            "width": null
          }
        },
        "e76bb47b0b184606b251a6aaffc0fb92": {
          "model_module": "@jupyter-widgets/controls",
          "model_name": "ProgressStyleModel",
          "model_module_version": "1.5.0",
          "state": {
            "_model_module": "@jupyter-widgets/controls",
            "_model_module_version": "1.5.0",
            "_model_name": "ProgressStyleModel",
            "_view_count": null,
            "_view_module": "@jupyter-widgets/base",
            "_view_module_version": "1.2.0",
            "_view_name": "StyleView",
            "bar_color": null,
            "description_width": ""
          }
        },
        "0af3dbd23730455691ac32074d7cf3d9": {
          "model_module": "@jupyter-widgets/base",
          "model_name": "LayoutModel",
          "model_module_version": "1.2.0",
          "state": {
            "_model_module": "@jupyter-widgets/base",
            "_model_module_version": "1.2.0",
            "_model_name": "LayoutModel",
            "_view_count": null,
            "_view_module": "@jupyter-widgets/base",
            "_view_module_version": "1.2.0",
            "_view_name": "LayoutView",
            "align_content": null,
            "align_items": null,
            "align_self": null,
            "border": null,
            "bottom": null,
            "display": null,
            "flex": null,
            "flex_flow": null,
            "grid_area": null,
            "grid_auto_columns": null,
            "grid_auto_flow": null,
            "grid_auto_rows": null,
            "grid_column": null,
            "grid_gap": null,
            "grid_row": null,
            "grid_template_areas": null,
            "grid_template_columns": null,
            "grid_template_rows": null,
            "height": null,
            "justify_content": null,
            "justify_items": null,
            "left": null,
            "margin": null,
            "max_height": null,
            "max_width": null,
            "min_height": null,
            "min_width": null,
            "object_fit": null,
            "object_position": null,
            "order": null,
            "overflow": null,
            "overflow_x": null,
            "overflow_y": null,
            "padding": null,
            "right": null,
            "top": null,
            "visibility": null,
            "width": null
          }
        },
        "f53012f22cc4435daa0ca203035dba0f": {
          "model_module": "@jupyter-widgets/controls",
          "model_name": "DescriptionStyleModel",
          "model_module_version": "1.5.0",
          "state": {
            "_model_module": "@jupyter-widgets/controls",
            "_model_module_version": "1.5.0",
            "_model_name": "DescriptionStyleModel",
            "_view_count": null,
            "_view_module": "@jupyter-widgets/base",
            "_view_module_version": "1.2.0",
            "_view_name": "StyleView",
            "description_width": ""
          }
        }
      }
    },
    "colab": {
      "provenance": []
    }
  },
  "nbformat": 4,
  "nbformat_minor": 5
}