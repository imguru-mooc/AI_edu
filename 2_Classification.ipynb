{
 "cells": [
  {
   "cell_type": "code",
   "execution_count": null,
   "metadata": {},
   "outputs": [],
   "source": [
    "import matplotlib.pyplot as  plt\n",
    "import numpy as np\n",
    "\n",
    "class Neuron:\n",
    "    \n",
    "    def __init__(self):\n",
    "        self.w = 1.0     \n",
    "        self.b = 1.0     \n",
    "    \n",
    "    def forpass(self, x):\n",
    "        y_hat = x * self.w + self.b       \n",
    "        return y_hat\n",
    "    \n",
    "    def backprop(self, x, err):\n",
    "        w_grad = x * err    \n",
    "        b_grad = 1 * err    \n",
    "        return w_grad, b_grad\n",
    "\n",
    "    def activation(self, z):\n",
    "        return z\n",
    "    \n",
    "    def fit(self, x, y, epochs=200):\n",
    "        for i in range(epochs):           \n",
    "            for x_i, y_i in zip(x, y):    \n",
    "                y_hat = self.forpass(x_i) \n",
    "                y_hat = self.activation(y_hat)\n",
    "                err = y_hat - y_i      \n",
    "                w_grad, b_grad = self.backprop(x_i, err)  \n",
    "                self.w -= 0.01*w_grad          \n",
    "                self.b -= 0.01*b_grad          \n",
    "\n",
    "x = np.array([1,2,3,4,5,6,7,8])\n",
    "y = np.array([0,0,0,0,1,1,1,1])\n",
    "# x = np.array([1,2,3,4,5,6,7,8,12])\n",
    "# y = np.array([0,0,0,0,1,1,1,1,1])                \n",
    "\n",
    "neuron = Neuron()\n",
    "neuron.fit(x, y)\n",
    "\n",
    "for xi, yi in zip(x,y):\n",
    "    plt.plot(xi,yi,\"rx\")\n",
    "\n",
    "y_temp = []\n",
    "for x_i in x:\n",
    "    y_hat = neuron.forpass(x_i)\n",
    "    if( y_hat >= 0.5 ):\n",
    "        print(\"%d : 악성종양\"%x_i)\n",
    "    else:\n",
    "        print(\"%d : 양성종양\"%x_i)\n",
    "    y_temp.append(y_hat)\n",
    "\n",
    "plt.plot(x,y_temp)\n",
    "plt.show()"
   ]
  },
  {
   "cell_type": "markdown",
   "metadata": {},
   "source": [
    "### 오즈비 그래프"
   ]
  },
  {
   "cell_type": "code",
   "execution_count": null,
   "metadata": {},
   "outputs": [],
   "source": [
    "import numpy as np\n",
    "probs = np.arange(0, 1, 0.01)\n",
    "\n",
    "print(type(probs))\n",
    "print(probs.ndim)\n",
    "print(probs.shape)\n",
    "print(probs)"
   ]
  },
  {
   "cell_type": "code",
   "execution_count": null,
   "metadata": {},
   "outputs": [],
   "source": [
    "import numpy as np\n",
    "import matplotlib.pyplot as plt\n",
    "np.random.seed(42)\n",
    "probs = np.arange(0, 1, 0.01)\n",
    "odds = [p/(1-p) for p in probs]\n",
    "plt.plot(probs, odds)\n",
    "plt.xlabel('p')\n",
    "plt.ylabel('p/(1-p)')\n",
    "plt.show()"
   ]
  },
  {
   "cell_type": "markdown",
   "metadata": {},
   "source": [
    "### 로짓 그래프"
   ]
  },
  {
   "cell_type": "code",
   "execution_count": null,
   "metadata": {},
   "outputs": [],
   "source": [
    "probs  = np.arange(0.001, 0.999, 0.001)\n",
    "logit = [np.log(p/(1-p)) for p in probs]\n",
    "plt.plot(probs, logit)\n",
    "plt.xlabel('p')\n",
    "plt.ylabel('log(p/(1-p))')\n",
    "plt.show()"
   ]
  },
  {
   "cell_type": "markdown",
   "metadata": {},
   "source": [
    "### 시그모이드 그래프"
   ]
  },
  {
   "cell_type": "code",
   "execution_count": null,
   "metadata": {
    "scrolled": true
   },
   "outputs": [],
   "source": [
    "zs = np.arange(-10., 10., 0.1)\n",
    "gs = [1/(1+np.exp(-z)) for z in zs]\n",
    "plt.plot(zs, gs)\n",
    "plt.xlabel('z')\n",
    "plt.ylabel('1/(1+e^-z)')\n",
    "plt.show()"
   ]
  },
  {
   "cell_type": "markdown",
   "metadata": {},
   "source": [
    "### 로지스틱 회귀 구현"
   ]
  },
  {
   "cell_type": "code",
   "execution_count": null,
   "metadata": {},
   "outputs": [],
   "source": [
    "import matplotlib.pyplot as  plt\n",
    "import numpy as np\n",
    "\n",
    "class Neuron:\n",
    "    \n",
    "    def __init__(self):\n",
    "        self.w = 1.0     \n",
    "        self.b = 1.0     \n",
    "    \n",
    "    def forpass(self, x):\n",
    "        z = x * self.w + self.b       \n",
    "        return z\n",
    "    \n",
    "    def backprop(self, x, err):\n",
    "        w_grad = x * err    \n",
    "        b_grad = 1 * err    \n",
    "        return w_grad, b_grad\n",
    "\n",
    "    def activation(self, z):\n",
    "#         a = z;\n",
    "        a = 1/(1+np.exp(-z))\n",
    "        return a\n",
    "    \n",
    "    def fit(self, x, y, epochs=200):\n",
    "        for i in range(epochs):           \n",
    "            for x_i, y_i in zip(x, y):    \n",
    "                z = self.forpass(x_i) \n",
    "                a = self.activation(z)\n",
    "                err = a - y_i       \n",
    "                w_grad, b_grad = self.backprop(x_i, err)  \n",
    "                self.w -= 0.01*w_grad          \n",
    "                self.b -= 0.01*b_grad          \n",
    "\n",
    "x = np.array([1,2,3,4,5,6,7,8])\n",
    "y = np.array([0,0,0,0,1,1,1,1])\n",
    "# x = np.array([1,2,3,4,5,6,7,8,12])\n",
    "# y = np.array([0,0,0,0,1,1,1,1,1])                \n",
    "\n",
    "neuron = Neuron()\n",
    "neuron.fit(x, y, epochs=1000)\n",
    "\n",
    "for xi, yi in zip(x,y):\n",
    "    plt.plot(xi,yi,\"rx\")\n",
    "\n",
    "for x_i in x:\n",
    "    y_hat = neuron.forpass(x_i)\n",
    "    a = neuron.activation(y_hat)\n",
    "    if( a >= 0.5 ):\n",
    "        print(\"%d : 악성종양\"%x_i)\n",
    "    else:\n",
    "        print(\"%d : 양성종양\"%x_i)\n",
    "    y_temp.append(a)\n",
    "\n",
    "x = np.arange(0,x[-1],0.1)\n",
    "y_temp = []\n",
    "  \n",
    "for i, x_i in enumerate(x):\n",
    "    y_hat = neuron.forpass(x_i)\n",
    "    a = neuron.activation(y_hat)\n",
    "    y_temp.append(a)    \n",
    "    \n",
    "plt.plot(x,y_temp)\n",
    "plt.show()"
   ]
  },
  {
   "cell_type": "markdown",
   "metadata": {},
   "source": [
    "### 로그 그래프 "
   ]
  },
  {
   "cell_type": "code",
   "execution_count": null,
   "metadata": {},
   "outputs": [],
   "source": [
    "zs = np.arange(0.01, 1., 0.01)\n",
    "gs = [np.log(z) for z in zs]\n",
    "plt.plot(zs, gs)\n",
    "plt.xlim(0,1)\n",
    "plt.ylim(-5,0)\n",
    "plt.xlabel('z')\n",
    "plt.ylabel('(-np.log(z)')\n",
    "plt.show()"
   ]
  },
  {
   "cell_type": "markdown",
   "metadata": {},
   "source": [
    "### 로그 그래프의 상/하 대칭"
   ]
  },
  {
   "cell_type": "code",
   "execution_count": null,
   "metadata": {},
   "outputs": [],
   "source": [
    "zs = np.arange(0.01, 1., 0.01)\n",
    "gs = [-np.log(z) for z in zs]\n",
    "plt.plot(zs, gs)\n",
    "plt.xlim(0,1)\n",
    "plt.ylim(0,5)\n",
    "plt.xlabel('z')\n",
    "plt.ylabel('(-np.log(z)')\n",
    "plt.show()"
   ]
  },
  {
   "cell_type": "markdown",
   "metadata": {},
   "source": [
    "### 좌/우 대칭"
   ]
  },
  {
   "cell_type": "code",
   "execution_count": null,
   "metadata": {},
   "outputs": [],
   "source": [
    "zs = np.arange(0.01, 1., 0.01)\n",
    "gs = [-np.log(1-z) for z in zs]\n",
    "plt.plot(zs, gs)\n",
    "plt.xlim(0,1)\n",
    "plt.ylim(0,5)\n",
    "plt.xlabel('z')\n",
    "plt.ylabel('-(np.log(1-z)')\n",
    "plt.show()"
   ]
  },
  {
   "cell_type": "markdown",
   "metadata": {},
   "source": [
    "### 위스콘신 암 데이터를 이용한 분류 문제 구현"
   ]
  },
  {
   "cell_type": "code",
   "execution_count": null,
   "metadata": {},
   "outputs": [],
   "source": [
    "from sklearn.datasets import load_breast_cancer\n",
    "cancer = load_breast_cancer()\n",
    "print(cancer.data.shape, cancer.target.shape)"
   ]
  },
  {
   "cell_type": "code",
   "execution_count": null,
   "metadata": {
    "scrolled": true
   },
   "outputs": [],
   "source": [
    "print(cancer.data[:3])"
   ]
  },
  {
   "cell_type": "code",
   "execution_count": null,
   "metadata": {},
   "outputs": [],
   "source": [
    "import matplotlib.pyplot as  plt\n",
    "import numpy as np\n",
    "plt.boxplot(cancer.data)\n",
    "plt.xlabel('feature')\n",
    "plt.ylabel('value')\n",
    "plt.show()"
   ]
  },
  {
   "cell_type": "code",
   "execution_count": null,
   "metadata": {},
   "outputs": [],
   "source": [
    "cancer.feature_names[[3,23]]"
   ]
  },
  {
   "cell_type": "code",
   "execution_count": null,
   "metadata": {},
   "outputs": [],
   "source": [
    "cancer.target"
   ]
  },
  {
   "cell_type": "code",
   "execution_count": null,
   "metadata": {},
   "outputs": [],
   "source": [
    "np.unique(cancer.target, return_counts=True)"
   ]
  },
  {
   "cell_type": "code",
   "execution_count": null,
   "metadata": {},
   "outputs": [],
   "source": [
    "x = cancer.data\n",
    "print(x.shape)\n",
    "y = cancer.target\n",
    "print(y.ndim)"
   ]
  },
  {
   "cell_type": "code",
   "execution_count": null,
   "metadata": {},
   "outputs": [],
   "source": [
    "from sklearn.model_selection import train_test_split\n",
    "\n",
    "x_train, x_test, y_train, y_test = train_test_split(x, y, stratify=y, \n",
    "test_size=0.2, random_state=42)"
   ]
  },
  {
   "cell_type": "code",
   "execution_count": null,
   "metadata": {},
   "outputs": [],
   "source": [
    "print(x_train.shape, x_test.shape)"
   ]
  },
  {
   "cell_type": "code",
   "execution_count": null,
   "metadata": {},
   "outputs": [],
   "source": [
    "np.unique(y_train, return_counts=True)"
   ]
  },
  {
   "cell_type": "code",
   "execution_count": null,
   "metadata": {},
   "outputs": [],
   "source": [
    "class LogisticNeuron:\n",
    "    \n",
    "    def __init__(self):\n",
    "        self.w = None\n",
    "        self.b = None\n",
    "\n",
    "    def forpass(self, x):\n",
    "        z = np.sum(x * self.w) + self.b  \n",
    "        return z\n",
    "\n",
    "    def backprop(self, x, err):\n",
    "        w_grad = x * err    \n",
    "        b_grad = 1 * err    \n",
    "        return w_grad, b_grad\n",
    "\n",
    "    def activation(self, z):\n",
    "        z = np.clip(z, -100, None) \n",
    "        a = 1 / (1 + np.exp(-z))  \n",
    "        return a\n",
    "        \n",
    "    def fit(self, x, y, epochs=100, lr=0.01):  # x.shape => (455,30)\n",
    "        self.w = np.ones(x.shape[1])      #  w.shape => (30,)\n",
    "        print('self.w=', self.w)\n",
    "        self.b = 0                        \n",
    "        print('self.b=', self.b)\n",
    "        for i in range(epochs):           \n",
    "            for x_i, y_i in zip(x, y):    \n",
    "#                 print(x_i.shape)          # x_i.shape => (30,)\n",
    "                z = self.forpass(x_i)     \n",
    "#                 print(z.shape)            \n",
    "#                 print(z)\n",
    "                a = self.activation(z)    # 활성화 함수 적용\n",
    "#                 print(a.shape)    \n",
    "#                 print(a)\n",
    "                err = (a - y_i)          \n",
    "#                 print(err.shape)         \n",
    "#                 print(err)\n",
    "                w_grad, b_grad = self.backprop(x_i, err) \n",
    "#                 print(w_grad.shape)       \n",
    "                self.w -= lr*w_grad          \n",
    "                self.b -= lr*b_grad          \n",
    "\n",
    "    \n",
    "    def predict(self, x):\n",
    "        z = [self.forpass(x_i) for x_i in x]    \n",
    "        a = self.activation(np.array(z))        \n",
    "        return a >= 0.5"
   ]
  },
  {
   "cell_type": "code",
   "execution_count": null,
   "metadata": {},
   "outputs": [],
   "source": [
    "neuron = LogisticNeuron()\n",
    "neuron.fit(x_train, y_train)\n",
    "print('self.w=', neuron.w)\n",
    "print('self.b=', neuron.b)"
   ]
  },
  {
   "cell_type": "code",
   "execution_count": null,
   "metadata": {},
   "outputs": [],
   "source": [
    "# print(neuron.predict(x_test))\n",
    "print(neuron.predict(x_test) == y_test)"
   ]
  },
  {
   "cell_type": "code",
   "execution_count": null,
   "metadata": {},
   "outputs": [],
   "source": [
    "np.mean(neuron.predict(x_test) == y_test)"
   ]
  }
 ],
 "metadata": {
  "kernelspec": {
   "display_name": "Python 3 (ipykernel)",
   "language": "python",
   "name": "python3"
  },
  "language_info": {
   "codemirror_mode": {
    "name": "ipython",
    "version": 3
   },
   "file_extension": ".py",
   "mimetype": "text/x-python",
   "name": "python",
   "nbconvert_exporter": "python",
   "pygments_lexer": "ipython3",
   "version": "3.8.16"
  }
 },
 "nbformat": 4,
 "nbformat_minor": 4
}
