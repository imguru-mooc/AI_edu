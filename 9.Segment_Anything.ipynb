{
  "nbformat": 4,
  "nbformat_minor": 0,
  "metadata": {
    "colab": {
      "provenance": []
    },
    "kernelspec": {
      "name": "python3",
      "display_name": "Python 3"
    },
    "language_info": {
      "name": "python"
    },
    "accelerator": "GPU",
    "gpuClass": "standard"
  },
  "cells": [
    {
      "cell_type": "markdown",
      "source": [
        "# # SAM 환경 세팅\n",
        "\n"
      ],
      "metadata": {
        "id": "gsNsjRq4KOsi"
      }
    },
    {
      "cell_type": "code",
      "execution_count": null,
      "metadata": {
        "id": "t5UXVACwGOYH"
      },
      "outputs": [],
      "source": [
        "import torch\n",
        "import torchvision\n",
        "print(\"PyTorch version:\", torch.__version__)\n",
        "print(\"Torchvision version:\", torchvision.__version__)\n",
        "print(\"CUDA is available:\", torch.cuda.is_available())\n",
        "import sys\n",
        "!{sys.executable} -m pip install opencv-python matplotlib\n",
        "!{sys.executable} -m pip install 'git+https://github.com/facebookresearch/segment-anything.git'\n",
        "\n",
        "!mkdir images\n",
        "!wget -P images https://raw.githubusercontent.com/facebookresearch/segment-anything/main/notebooks/images/truck.jpg\n",
        "\n",
        "!wget https://dl.fbaipublicfiles.com/segment_anything/sam_vit_h_4b8939.pth"
      ]
    },
    {
      "cell_type": "code",
      "source": [
        "import numpy as np\n",
        "import torch\n",
        "import matplotlib.pyplot as plt\n",
        "import cv2\n",
        "import io\n",
        "from PIL import Image\n",
        "from google.colab import files\n",
        "\n",
        "def show_mask(mask, ax, random_color=False):\n",
        "    if random_color:\n",
        "        color = np.concatenate([np.random.random(3), np.array([0.6])], axis=0)\n",
        "    else:\n",
        "        color = np.array([30/255, 144/255, 255/255, 0.6])\n",
        "    h, w = mask.shape[-2:]\n",
        "    mask_image = mask.reshape(h, w, 1) * color.reshape(1, 1, -1)\n",
        "    ax.imshow(mask_image)\n",
        "\n",
        "def show_points(coords, labels, ax, marker_size=375):\n",
        "    pos_points = coords[labels==1]\n",
        "    neg_points = coords[labels==0]\n",
        "    ax.scatter(pos_points[:, 0], pos_points[:, 1], color='green', marker='*', s=marker_size, edgecolor='white', linewidth=1.25)\n",
        "    ax.scatter(neg_points[:, 0], neg_points[:, 1], color='red', marker='*', s=marker_size, edgecolor='white', linewidth=1.25)\n",
        "\n",
        "def show_box(box, ax):\n",
        "    x0, y0 = box[0], box[1]\n",
        "    w, h = box[2] - box[0], box[3] - box[1]\n",
        "    ax.add_patch(plt.Rectangle((x0, y0), w, h, edgecolor='green', facecolor=(0,0,0,0), lw=2))"
      ],
      "metadata": {
        "id": "8XfWuTk5GkE5"
      },
      "execution_count": null,
      "outputs": []
    },
    {
      "cell_type": "markdown",
      "source": [
        "# # 이미지 업로드"
      ],
      "metadata": {
        "id": "CObVV4OYKT5_"
      }
    },
    {
      "cell_type": "code",
      "source": [
        "# 이미지를 업로드해서 사용하는 경우\n",
        "# image_file = files.upload()\n",
        "# image = io.BytesIO(image_file[list(image_file.keys())[0]])\n",
        "# image = np.array(Image.open(image))\n",
        "\n",
        "# 다운받은 샘플 이미지를 사용하는 경우\n",
        "image = cv2.imread('images/truck.jpg')\n",
        "image = cv2.cvtColor(image, cv2.COLOR_BGR2RGB)\n",
        "\n",
        "plt.figure(figsize=(10,10))\n",
        "plt.imshow(image)\n",
        "plt.axis('on')\n",
        "plt.show()"
      ],
      "metadata": {
        "id": "4GBJxGMRGkCa"
      },
      "execution_count": null,
      "outputs": []
    },
    {
      "cell_type": "markdown",
      "source": [
        "# # point로 객체 분할\n",
        "- 이미지에서 포인트를 지정하여 객체 분할\n",
        "- `multimask_output` 옵션을 사용하여 계층적인 분할 결과를 얻을 수 있음"
      ],
      "metadata": {
        "id": "Vzbq0CWxKcmL"
      }
    },
    {
      "cell_type": "code",
      "source": [
        "import sys\n",
        "sys.path.append(\"..\")\n",
        "from segment_anything import sam_model_registry, SamPredictor\n",
        "\n",
        "sam_checkpoint = \"sam_vit_h_4b8939.pth\"\n",
        "model_type = \"vit_h\"\n",
        "\n",
        "device = \"cuda\"\n",
        "\n",
        "sam = sam_model_registry[model_type](checkpoint=sam_checkpoint)\n",
        "sam.to(device=device)\n",
        "\n",
        "predictor = SamPredictor(sam)"
      ],
      "metadata": {
        "id": "6SdvtkGYGj_-"
      },
      "execution_count": null,
      "outputs": []
    },
    {
      "cell_type": "code",
      "source": [
        "predictor.set_image(image)"
      ],
      "metadata": {
        "id": "oW1WvnJEGj9g"
      },
      "execution_count": null,
      "outputs": []
    },
    {
      "cell_type": "code",
      "source": [
        "input_point = np.array([[500, 375]])\n",
        "input_label = np.array([1])\n",
        "\n",
        "plt.figure(figsize=(10,10))\n",
        "plt.imshow(image)\n",
        "show_points(input_point, input_label, plt.gca())\n",
        "plt.axis('on')\n",
        "plt.show()"
      ],
      "metadata": {
        "id": "y6s1hd__Gj7R"
      },
      "execution_count": null,
      "outputs": []
    },
    {
      "cell_type": "code",
      "source": [
        "masks, scores, logits = predictor.predict(\n",
        "    point_coords=input_point,\n",
        "    point_labels=input_label,\n",
        "    multimask_output=True,\n",
        ")"
      ],
      "metadata": {
        "id": "1pskBM48Gj38"
      },
      "execution_count": null,
      "outputs": []
    },
    {
      "cell_type": "code",
      "source": [
        "for i, (mask, score) in enumerate(zip(masks, scores)):\n",
        "    plt.figure(figsize=(10,10))\n",
        "    plt.imshow(image)\n",
        "    show_mask(mask, plt.gca())\n",
        "    show_points(input_point, input_label, plt.gca())\n",
        "    plt.title(f\"Mask {i+1}, Score: {score:.3f}\", fontsize=18)\n",
        "    plt.axis('off')\n",
        "    plt.show()"
      ],
      "metadata": {
        "id": "DCE_idYhGjwu"
      },
      "execution_count": null,
      "outputs": []
    },
    {
      "cell_type": "markdown",
      "source": [
        "# \b# 2개 이상의 points로 객체 분할\n",
        "- 다중 points를 사용하여 points를 공유하는 segment를 추출\n",
        "- `input_label` 설정으로 첫 번째 point는 포함하고 두 번째 point는 포함하지 않는 segment 추출 가능"
      ],
      "metadata": {
        "id": "5CadtC62Ko9j"
      }
    },
    {
      "cell_type": "code",
      "source": [
        "input_point = np.array([[500, 375], [1125, 625]])\n",
        "input_label = np.array([1, 1])\n",
        "\n",
        "mask_input = logits[np.argmax(scores), :, :]  # Choose the model's best mask"
      ],
      "metadata": {
        "id": "FKT2N334JBNG"
      },
      "execution_count": null,
      "outputs": []
    },
    {
      "cell_type": "code",
      "source": [
        "masks, _, _ = predictor.predict(\n",
        "    point_coords=input_point,\n",
        "    point_labels=input_label,\n",
        "    mask_input=mask_input[None, :, :],\n",
        "    multimask_output=False,\n",
        ")"
      ],
      "metadata": {
        "id": "-nf4B8c5JCZ6"
      },
      "execution_count": null,
      "outputs": []
    },
    {
      "cell_type": "code",
      "source": [
        "plt.figure(figsize=(10,10))\n",
        "plt.imshow(image)\n",
        "show_mask(masks, plt.gca())\n",
        "show_points(input_point, input_label, plt.gca())\n",
        "plt.axis('off')\n",
        "plt.show()"
      ],
      "metadata": {
        "id": "HiMv3sSNJEAA"
      },
      "execution_count": null,
      "outputs": []
    },
    {
      "cell_type": "code",
      "source": [
        "input_point = np.array([[500, 375], [1125, 625]])\n",
        "input_label = np.array([1, 0])\n",
        "\n",
        "mask_input = logits[np.argmax(scores), :, :]  # Choose the model's best mask"
      ],
      "metadata": {
        "id": "msJpEiT5JElV"
      },
      "execution_count": null,
      "outputs": []
    },
    {
      "cell_type": "code",
      "source": [
        "masks, _, _ = predictor.predict(\n",
        "    point_coords=input_point,\n",
        "    point_labels=input_label,\n",
        "    mask_input=mask_input[None, :, :],\n",
        "    multimask_output=False,\n",
        ")"
      ],
      "metadata": {
        "id": "BsVQE9CwJIfa"
      },
      "execution_count": null,
      "outputs": []
    },
    {
      "cell_type": "code",
      "source": [
        "plt.figure(figsize=(10, 10))\n",
        "plt.imshow(image)\n",
        "show_mask(masks, plt.gca())\n",
        "show_points(input_point, input_label, plt.gca())\n",
        "plt.axis('off')\n",
        "plt.show()"
      ],
      "metadata": {
        "id": "xEpvhN_eJJWI"
      },
      "execution_count": null,
      "outputs": []
    },
    {
      "cell_type": "markdown",
      "source": [
        "# # box로 객체 분할\n",
        "- box 내부의 segment 추출"
      ],
      "metadata": {
        "id": "EiO37hRzKyRw"
      }
    },
    {
      "cell_type": "code",
      "source": [
        "input_box = np.array([425, 600, 700, 875])"
      ],
      "metadata": {
        "id": "XKwT4BoyJJ3p"
      },
      "execution_count": null,
      "outputs": []
    },
    {
      "cell_type": "code",
      "source": [
        "masks, _, _ = predictor.predict(\n",
        "    point_coords=None,\n",
        "    point_labels=None,\n",
        "    box=input_box[None, :],\n",
        "    multimask_output=False,\n",
        ")"
      ],
      "metadata": {
        "id": "2Ao0VnyCJPSK"
      },
      "execution_count": null,
      "outputs": []
    },
    {
      "cell_type": "code",
      "source": [
        "plt.figure(figsize=(10, 10))\n",
        "plt.imshow(image)\n",
        "show_mask(masks[0], plt.gca())\n",
        "show_box(input_box, plt.gca())\n",
        "plt.axis('off')\n",
        "plt.show()"
      ],
      "metadata": {
        "id": "2GjQesulJSOJ"
      },
      "execution_count": null,
      "outputs": []
    },
    {
      "cell_type": "markdown",
      "source": [
        "# box와 points의 조합으로 분할\n",
        "- box와 points의 조합으로 box 내부에서 points 부분을 제외한 segment 추출"
      ],
      "metadata": {
        "id": "me2sRBzvLCd_"
      }
    },
    {
      "cell_type": "code",
      "source": [
        "input_box = np.array([425, 600, 700, 875])\n",
        "input_point = np.array([[575, 750]])\n",
        "input_label = np.array([0])"
      ],
      "metadata": {
        "id": "I_-k0DVPJTdf"
      },
      "execution_count": null,
      "outputs": []
    },
    {
      "cell_type": "code",
      "source": [
        "masks, _, _ = predictor.predict(\n",
        "    point_coords=input_point,\n",
        "    point_labels=input_label,\n",
        "    box=input_box,\n",
        "    multimask_output=False,\n",
        ")"
      ],
      "metadata": {
        "id": "Qykf_0X5JV2s"
      },
      "execution_count": null,
      "outputs": []
    },
    {
      "cell_type": "code",
      "source": [
        "plt.figure(figsize=(10, 10))\n",
        "plt.imshow(image)\n",
        "show_mask(masks[0], plt.gca())\n",
        "show_box(input_box, plt.gca())\n",
        "show_points(input_point, input_label, plt.gca())\n",
        "plt.axis('off')\n",
        "plt.show()"
      ],
      "metadata": {
        "id": "lyS2GnYQJZ_6"
      },
      "execution_count": null,
      "outputs": []
    },
    {
      "cell_type": "markdown",
      "source": [
        "# # 다중 입력 프롬프트 사용\n",
        "- 하나의 이미지에 다중 입력 프롬프트를 취할 수 있음\n"
      ],
      "metadata": {
        "id": "zvvCN4ZtLOC7"
      }
    },
    {
      "cell_type": "code",
      "source": [
        "input_boxes = torch.tensor([\n",
        "    [75, 275, 1725, 850],\n",
        "    [425, 600, 700, 875],\n",
        "    [1375, 550, 1650, 800],\n",
        "    [1240, 675, 1400, 750],\n",
        "], device=predictor.device)"
      ],
      "metadata": {
        "id": "H8tmG3QbJgJ3"
      },
      "execution_count": null,
      "outputs": []
    },
    {
      "cell_type": "code",
      "source": [
        "transformed_boxes = predictor.transform.apply_boxes_torch(input_boxes, image.shape[:2])\n",
        "masks, _, _ = predictor.predict_torch(\n",
        "    point_coords=None,\n",
        "    point_labels=None,\n",
        "    boxes=transformed_boxes,\n",
        "    multimask_output=False,\n",
        ")"
      ],
      "metadata": {
        "id": "xkrx19K3JkhI"
      },
      "execution_count": null,
      "outputs": []
    },
    {
      "cell_type": "code",
      "source": [
        "plt.figure(figsize=(10, 10))\n",
        "plt.imshow(image)\n",
        "for mask in masks:\n",
        "    show_mask(mask.cpu().numpy(), plt.gca(), random_color=True)\n",
        "for box in input_boxes:\n",
        "    show_box(box.cpu().numpy(), plt.gca())\n",
        "plt.axis('off')\n",
        "plt.show()"
      ],
      "metadata": {
        "id": "DvC7b3yvJlvt"
      },
      "execution_count": null,
      "outputs": []
    }
  ]
}