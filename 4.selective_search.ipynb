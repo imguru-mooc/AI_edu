{
  "cells": [
    {
      "cell_type": "markdown",
      "metadata": {
        "id": "Ugep006oeiCi"
      },
      "source": [
        "## Selective Search 예제"
      ]
    },
    {
      "cell_type": "markdown",
      "metadata": {
        "id": "Hk15J3qxeiCl"
      },
      "source": [
        "### 코드 다운로드"
      ]
    },
    {
      "cell_type": "code",
      "execution_count": null,
      "metadata": {
        "id": "dyS5Us4JeiCn"
      },
      "outputs": [],
      "source": [
        "!wget https://pyimagesearch-code-downloads.s3-us-west-2.amazonaws.com/opencv-selective-search/opencv-selective-search.zip\n",
        "!unzip -qq opencv-selective-search.zip\n",
        "%cd opencv-selective-search"
      ]
    },
    {
      "cell_type": "code",
      "execution_count": null,
      "metadata": {
        "id": "422Hq-hUeiCn"
      },
      "outputs": [],
      "source": [
        "import cv2\n",
        "import numpy as np\n",
        "import matplotlib.pyplot as plt\n",
        "import time\n",
        "import random"
      ]
    },
    {
      "cell_type": "code",
      "execution_count": null,
      "metadata": {
        "id": "Xaynq2ZYeiCn"
      },
      "outputs": [],
      "source": [
        "def plt_imshow(title, image):\n",
        "    # convert the image frame BGR to RGB color space and display it\n",
        "    image = cv2.cvtColor(image, cv2.COLOR_BGR2RGB)\n",
        "    plt.imshow(image)\n",
        "    plt.title(title)\n",
        "    plt.grid(False)\n",
        "    plt.show()"
      ]
    },
    {
      "cell_type": "markdown",
      "metadata": {
        "id": "AcbN11g4eiCo"
      },
      "source": [
        "### segmetation 데모"
      ]
    },
    {
      "cell_type": "code",
      "execution_count": null,
      "metadata": {
        "id": "ooEz9sA1eiCo"
      },
      "outputs": [],
      "source": [
        "def graph_segmentation_demo(image_path, sigma=0.5, k=300, min_size=1000):\n",
        "    # Load the image\n",
        "    image = cv2.imread(image_path)\n",
        "\n",
        "    # Create the GraphSegmentation object\n",
        "    gs = cv2.ximgproc.segmentation.createGraphSegmentation()\n",
        "\n",
        "    # Set the sigma, k, and min_size parameters\n",
        "    gs.setSigma(sigma)\n",
        "    gs.setK(k)\n",
        "    gs.setMinSize(min_size)\n",
        "\n",
        "    # Process the image\n",
        "    # print(image.shape)\n",
        "    segments = gs.processImage(image)\n",
        "    # print(segments.shape)\n",
        "\n",
        "    # Create a color image to visualize the segmentation\n",
        "    visual = np.zeros((segments.shape[0], segments.shape[1], 3), dtype=np.uint8)\n",
        "    segment_ids = np.unique(segments)\n",
        "    # print(segment_ids)\n",
        "    for segment_id in segment_ids:\n",
        "        visual[segments == segment_id] = [np.random.randint(0, 256) for _ in range(3)]\n",
        "\n",
        "    return visual"
      ]
    },
    {
      "cell_type": "code",
      "execution_count": null,
      "metadata": {
        "id": "B1S-jupmeiCo"
      },
      "outputs": [],
      "source": [
        "image_path = \"dog.jpg\"\n",
        "visual = graph_segmentation_demo(image_path,0.1,2000,100)\n",
        "plt_imshow(\"seletive search\", visual)"
      ]
    },
    {
      "cell_type": "markdown",
      "metadata": {
        "id": "QXwrV8jSeiCp"
      },
      "source": [
        "### selective search를 이용한 region proposal"
      ]
    },
    {
      "cell_type": "code",
      "execution_count": null,
      "metadata": {
        "id": "ps0CtpkBeiCp"
      },
      "outputs": [],
      "source": [
        "def selective_search_demo(image_path):\n",
        "    # Load the image\n",
        "    image = cv2.imread(image_path)\n",
        "\n",
        "    # Create a Selective Search Segmentation Object using the default graph-based model\n",
        "    ss = cv2.ximgproc.segmentation.createSelectiveSearchSegmentation()\n",
        "    ss.setBaseImage(image)\n",
        "\n",
        "\n",
        "    # Choose the segmentation method (fast or quality)\n",
        "    ss.switchToSelectiveSearchFast()\n",
        "\n",
        "    # Run selective search and get the region proposals\n",
        "    rects = ss.process()\n",
        "    print(f\"Total Region Proposals: {len(rects)}\")\n",
        "    print(rects)\n",
        "\n",
        "    # Visualize a subset of region proposals\n",
        "    num_show_rects = 100\n",
        "    clone = image.copy()\n",
        "    for i, rect in enumerate(rects):\n",
        "        if i < num_show_rects:\n",
        "            x, y, w, h = rect\n",
        "            cv2.rectangle(clone, (x, y), (x+w, y+h), (0, 255, 0), 2)\n",
        "        else:\n",
        "            break\n",
        "\n",
        "    return clone"
      ]
    },
    {
      "cell_type": "code",
      "execution_count": null,
      "metadata": {
        "id": "3Gafsl76eiCp"
      },
      "outputs": [],
      "source": [
        "image_path = \"dog.jpg\"\n",
        "visual = selective_search_demo(image_path)\n",
        "plt_imshow(\"seletive search\", visual)"
      ]
    },
    {
      "cell_type": "markdown",
      "metadata": {
        "id": "eDzD_zkDeiCp"
      },
      "source": [
        "### 객체 감지를 위한 OpenCV 선택적 검색"
      ]
    },
    {
      "cell_type": "code",
      "execution_count": null,
      "metadata": {
        "id": "s5PQp2cTeiCp"
      },
      "outputs": [],
      "source": [
        "args = {\n",
        "    \"image\": \"dog.jpg\",\n",
        "    \"method\": \"fast\"\n",
        "}"
      ]
    },
    {
      "cell_type": "code",
      "execution_count": null,
      "metadata": {
        "id": "Ye91EojCeiCq"
      },
      "outputs": [],
      "source": [
        "# load the input image\n",
        "image = cv2.imread(args[\"image\"])\n",
        "\n",
        "# initialize OpenCV's selective search implementation and set the\n",
        "# input image\n",
        "ss = cv2.ximgproc.segmentation.createSelectiveSearchSegmentation()\n",
        "ss.setBaseImage(image)\n",
        "\n",
        "# check to see if we are using the *fast* but *less accurate* version\n",
        "# of selective search\n",
        "if args[\"method\"] == \"fast\":\n",
        "    print(\"[INFO] using *fast* selective search\")\n",
        "    ss.switchToSelectiveSearchFast()\n",
        "\n",
        "# otherwise we are using the *slower* but *more accurate* version\n",
        "else:\n",
        "    print(\"[INFO] using *quality* selective search\")\n",
        "    ss.switchToSelectiveSearchQuality()"
      ]
    },
    {
      "cell_type": "code",
      "execution_count": null,
      "metadata": {
        "id": "_QP3MLvgeiCq"
      },
      "outputs": [],
      "source": [
        "# run selective search on the input image\n",
        "start = time.time()\n",
        "rects = ss.process()\n",
        "end = time.time()\n",
        "\n",
        "# show how along selective search took to run along with the total\n",
        "# number of returned region proposals\n",
        "print(\"[INFO] selective search took {:.4f} seconds\".format(end - start))\n",
        "print(\"[INFO] {} total region proposals\".format(len(rects)))"
      ]
    },
    {
      "cell_type": "code",
      "execution_count": null,
      "metadata": {
        "id": "KlfAUrjReiCq"
      },
      "outputs": [],
      "source": [
        "# loop over the region proposals in chunks (so we can better\n",
        "# visualize them)\n",
        "for i in range(0, len(rects), 100):\n",
        "    # clone the original image so we can draw on it\n",
        "    output = image.copy()\n",
        "\n",
        "    # loop over the current subset of region proposals\n",
        "    for (x, y, w, h) in rects[i:i + 100]:\n",
        "        # draw the region proposal bounding box on the image\n",
        "        color = [random.randint(0, 255) for j in range(0, 3)]\n",
        "        cv2.rectangle(output, (x, y), (x + w, y + h), color, 2)\n",
        "\n",
        "    # show the output image\n",
        "    plt_imshow(\"Output\", output)"
      ]
    }
  ],
  "metadata": {
    "kernelspec": {
      "display_name": "Python 3",
      "language": "python",
      "name": "python3"
    },
    "language_info": {
      "codemirror_mode": {
        "name": "ipython",
        "version": 3
      },
      "file_extension": ".py",
      "mimetype": "text/x-python",
      "name": "python",
      "nbconvert_exporter": "python",
      "pygments_lexer": "ipython3",
      "version": "3.7.4"
    },
    "colab": {
      "provenance": []
    }
  },
  "nbformat": 4,
  "nbformat_minor": 0
}