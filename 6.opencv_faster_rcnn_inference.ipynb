{
  "nbformat": 4,
  "nbformat_minor": 0,
  "metadata": {
    "kernelspec": {
      "display_name": "Python 3",
      "name": "python3"
    },
    "language_info": {
      "name": "python"
    },
    "colab": {
      "provenance": [],
      "machine_shape": "hm",
      "gpuType": "A100"
    },
    "accelerator": "GPU",
    "gpuClass": "standard"
  },
  "cells": [
    {
      "cell_type": "markdown",
      "metadata": {
        "id": "aF59-bOyQe_u"
      },
      "source": [
        "### OpenCV DNN 패키지를 이용하여 Faster R-CNN 기반의 Object Detection 수행\n",
        "* Tensorflow 에서 Pretrained 된 모델 파일을 OpenCV에서 로드하여 이미지와 영상에 대한 Object Detection 수행."
      ]
    },
    {
      "cell_type": "markdown",
      "metadata": {
        "id": "q3mgq_wnQe_z"
      },
      "source": [
        "#### 입력 이미지로 사용될 이미지 다운로드/보기"
      ]
    },
    {
      "cell_type": "code",
      "metadata": {
        "id": "veqbrEUwIcOc"
      },
      "source": [
        "!mkdir /content/data\n",
        "!wget -O ./data/sample1.jpg https://raw.githubusercontent.com/imguru-mooc/AI_EDU/master/data/sample1.jpg"
      ],
      "execution_count": null,
      "outputs": []
    },
    {
      "cell_type": "code",
      "metadata": {
        "id": "5W1OhdomQe_0"
      },
      "source": [
        "import cv2\n",
        "import matplotlib.pyplot as plt\n",
        "%matplotlib inline\n",
        "\n",
        "img = cv2.imread('./data/sample1.jpg')\n",
        "img_rgb = cv2.cvtColor(img, cv2.COLOR_BGR2RGB)\n",
        "\n",
        "print('image shape:', img.shape)\n",
        "plt.figure(figsize=(12, 12))\n",
        "plt.imshow(img_rgb)"
      ],
      "execution_count": null,
      "outputs": []
    },
    {
      "cell_type": "markdown",
      "metadata": {
        "id": "ReiyE6qXQe_3"
      },
      "source": [
        "#### Tensorflow에서 Pretrained 된 Inference모델(Frozen graph)와 환경파일을 다운로드 받은 후 이를 이용해 OpenCV에서 Inference 모델 생성\n",
        "* https://github.com/opencv/opencv/wiki/TensorFlow-Object-Detection-API 에 다운로드 URL 있음.\n",
        "* pretrained 모델은 http://download.tensorflow.org/models/object_detection/faster_rcnn_resnet50_coco_2018_01_28.tar.gz 에서 다운로드 후 압축 해제\n",
        "* pretrained 모델을 위한 환경 파일은 https://github.com/opencv/opencv_extra/blob/master/testdata/dnn/faster_rcnn_resnet50_coco_2018_01_28.pbtxt 에서 다운로드\n",
        "* download된 모델 파일과 config 파일을 인자로 하여 inference 모델을 DNN에서 로딩함.\n"
      ]
    },
    {
      "cell_type": "code",
      "metadata": {
        "id": "1X4mTJRhQe_4"
      },
      "source": [
        "!mkdir ./pretrained\n",
        "!wget -O ./pretrained/faster_rcnn_resnet50_coco_2018_01_28.tar.gz http://download.tensorflow.org/models/object_detection/faster_rcnn_resnet50_coco_2018_01_28.tar.gz\n",
        "!wget -O ./pretrained/config_graph.pbtxt https://raw.githubusercontent.com/opencv/opencv_extra/master/testdata/dnn/faster_rcnn_resnet50_coco_2018_01_28.pbtxt"
      ],
      "execution_count": null,
      "outputs": []
    },
    {
      "cell_type": "code",
      "metadata": {
        "id": "3mn95ff8JuX3"
      },
      "source": [
        "!tar -xvf ./pretrained/faster*.tar.gz -C ./pretrained"
      ],
      "execution_count": null,
      "outputs": []
    },
    {
      "cell_type": "code",
      "metadata": {
        "id": "r0LFdN3MQe_5"
      },
      "source": [
        "!pwd\n",
        "!ls -lia ./pretrained/faster_rcnn_resnet50_coco_2018_01_28"
      ],
      "execution_count": null,
      "outputs": []
    },
    {
      "cell_type": "markdown",
      "metadata": {
        "id": "tZsnnERDQe_7"
      },
      "source": [
        "#### dnn에서 readNetFromTensorflow()로 tensorflow inference 모델을 로딩"
      ]
    },
    {
      "cell_type": "code",
      "metadata": {
        "id": "Yqvx54DBQe_7"
      },
      "source": [
        "cv_net = cv2.dnn.readNetFromTensorflow('./pretrained/faster_rcnn_resnet50_coco_2018_01_28/frozen_inference_graph.pb',\n",
        "                                     './pretrained/config_graph.pbtxt')"
      ],
      "execution_count": null,
      "outputs": []
    },
    {
      "cell_type": "markdown",
      "metadata": {
        "id": "wf_DxJfaQe_9"
      },
      "source": [
        "#### coco 데이터 세트의 클래스id별 클래스명 지정."
      ]
    },
    {
      "cell_type": "code",
      "metadata": {
        "id": "5VsqWSUnQe__"
      },
      "source": [
        "# OpenCV Tensorflow Faster-RCNN용\n",
        "labels_to_names_0 = {0:'person',1:'bicycle',2:'car',3:'motorcycle',4:'airplane',5:'bus',6:'train',7:'truck',8:'boat',9:'traffic light',\n",
        "                    10:'fire hydrant',11:'street sign',12:'stop sign',13:'parking meter',14:'bench',15:'bird',16:'cat',17:'dog',18:'horse',19:'sheep',\n",
        "                    20:'cow',21:'elephant',22:'bear',23:'zebra',24:'giraffe',25:'hat',26:'backpack',27:'umbrella',28:'shoe',29:'eye glasses',\n",
        "                    30:'handbag',31:'tie',32:'suitcase',33:'frisbee',34:'skis',35:'snowboard',36:'sports ball',37:'kite',38:'baseball bat',39:'baseball glove',\n",
        "                    40:'skateboard',41:'surfboard',42:'tennis racket',43:'bottle',44:'plate',45:'wine glass',46:'cup',47:'fork',48:'knife',49:'spoon',\n",
        "                    50:'bowl',51:'banana',52:'apple',53:'sandwich',54:'orange',55:'broccoli',56:'carrot',57:'hot dog',58:'pizza',59:'donut',\n",
        "                    60:'cake',61:'chair',62:'couch',63:'potted plant',64:'bed',65:'mirror',66:'dining table',67:'window',68:'desk',69:'toilet',\n",
        "                    70:'door',71:'tv',72:'laptop',73:'mouse',74:'remote',75:'keyboard',76:'cell phone',77:'microwave',78:'oven',79:'toaster',\n",
        "                    80:'sink',81:'refrigerator',82:'blender',83:'book',84:'clock',85:'vase',86:'scissors',87:'teddy bear',88:'hair drier',89:'toothbrush',\n",
        "                    90:'hair brush'}"
      ],
      "execution_count": null,
      "outputs": []
    },
    {
      "cell_type": "markdown",
      "metadata": {
        "id": "fERbvTLUQfAA"
      },
      "source": [
        "#### 이미지를 preprocessing 수행하여 Network에 입력하고 Object Detection 수행 후 결과를 이미지에 시각화"
      ]
    },
    {
      "cell_type": "code",
      "metadata": {
        "id": "rdrQAwxYQfAC"
      },
      "source": [
        "import time\n",
        "\n",
        "def get_detected_img(cv_net, img_array, score_threshold, use_copied_array=True, is_print=True):\n",
        "\n",
        "    rows = img_array.shape[0]\n",
        "    cols = img_array.shape[1]\n",
        "\n",
        "    draw_img = None\n",
        "    if use_copied_array:\n",
        "        draw_img = img_array.copy()\n",
        "    else:\n",
        "        draw_img = img_array\n",
        "\n",
        "    cv_net.setInput(cv2.dnn.blobFromImage(img_array, swapRB=True, crop=False))\n",
        "\n",
        "    start = time.time()\n",
        "    cv_out = cv_net.forward()\n",
        "\n",
        "    green_color=(0, 255, 0)\n",
        "    red_color=(0, 0, 255)\n",
        "\n",
        "    # detected 된 object들을 iteration 하면서 정보 추출\n",
        "    for detection in cv_out[0,0,:,:]:\n",
        "        score = float(detection[2])\n",
        "        class_id = int(detection[1])\n",
        "        # detected된 object들의 score가 함수 인자로 들어온 score_threshold 이상만 추출\n",
        "        if score > score_threshold:\n",
        "            # detected된 object들은 scale된 기준으로 예측되었으므로 다시 원본 이미지 비율로 계산\n",
        "            left = detection[3] * cols\n",
        "            top = detection[4] * rows\n",
        "            right = detection[5] * cols\n",
        "            bottom = detection[6] * rows\n",
        "            # labels_to_names 딕셔너리로 class_id값을 클래스명으로 변경. opencv에서는 class_id + 1로 매핑해야함.\n",
        "            caption = \"{}: {:.4f}\".format(labels_to_names_0[class_id], score)\n",
        "            print(caption)\n",
        "            #cv2.rectangle()은 인자로 들어온 draw_img에 사각형을 그림. 위치 인자는 반드시 정수형.\n",
        "            cv2.rectangle(draw_img, (int(left), int(top)), (int(right), int(bottom)), color=green_color, thickness=2)\n",
        "            cv2.putText(draw_img, caption, (int(left), int(top - 5)), cv2.FONT_HERSHEY_SIMPLEX, 0.4, red_color, 1)\n",
        "    if is_print:\n",
        "        print('Detection 수행시간:',round(time.time() - start, 2),\"초\")\n",
        "\n",
        "    return draw_img"
      ],
      "execution_count": null,
      "outputs": []
    },
    {
      "cell_type": "code",
      "metadata": {
        "id": "c7YH7nFDQfAC"
      },
      "source": [
        "# image 로드\n",
        "img = cv2.imread('./data/sample1.jpg')\n",
        "print('image shape:', img.shape)\n",
        "\n",
        "# tensorflow inference 모델 로딩\n",
        "cv_net = cv2.dnn.readNetFromTensorflow('./pretrained/faster_rcnn_resnet50_coco_2018_01_28/frozen_inference_graph.pb',\n",
        "                                     './pretrained/config_graph.pbtxt')\n",
        "# Object Detetion 수행 후 시각화\n",
        "draw_img = get_detected_img(cv_net, img, score_threshold=0.5, use_copied_array=True, is_print=True)\n",
        "\n",
        "img_rgb = cv2.cvtColor(draw_img, cv2.COLOR_BGR2RGB)\n",
        "\n",
        "plt.figure(figsize=(12, 12))\n",
        "plt.imshow(img_rgb)"
      ],
      "execution_count": null,
      "outputs": []
    },
    {
      "cell_type": "code",
      "metadata": {
        "id": "T0FZ9D0RMhMc"
      },
      "source": [
        "# 다른 image 테스트\n",
        "!wget -O ./data/sample2.jpg https://raw.githubusercontent.com/imguru-mooc/AI_EDU/master/data/sample2.jpg"
      ],
      "execution_count": null,
      "outputs": []
    },
    {
      "cell_type": "code",
      "metadata": {
        "id": "3Je3_OPIQfAD"
      },
      "source": [
        "img = cv2.imread('./data/sample2.jpg')\n",
        "print('image shape:', img.shape)\n",
        "\n",
        "# tensorflow inference 모델 로딩\n",
        "cv_net = cv2.dnn.readNetFromTensorflow('./pretrained/faster_rcnn_resnet50_coco_2018_01_28/frozen_inference_graph.pb',\n",
        "                                     './pretrained/config_graph.pbtxt')\n",
        "# Object Detetion 수행 후 시각화\n",
        "draw_img = get_detected_img(cv_net, img, score_threshold=0.5, use_copied_array=True, is_print=True)\n",
        "\n",
        "img_rgb = cv2.cvtColor(draw_img, cv2.COLOR_BGR2RGB)\n",
        "\n",
        "plt.figure(figsize=(12, 12))\n",
        "plt.imshow(img_rgb)"
      ],
      "execution_count": null,
      "outputs": []
    }
  ]
}